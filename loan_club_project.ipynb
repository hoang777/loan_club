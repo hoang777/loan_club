{
 "cells": [
  {
   "cell_type": "code",
   "execution_count": 12,
   "metadata": {},
   "outputs": [],
   "source": [
    "import matplotlib.patches as mpatches\n",
    "import matplotlib.pyplot as plt\n",
    "import matplotlib.pyplot as plt\n",
    "import seaborn as sns\n",
    "import pandas as pd\n",
    "import numpy as np\n",
    "from sklearn import metrics\n",
    "from sklearn.feature_selection import mutual_info_classif, mutual_info_regression, SelectKBest, SelectPercentile\n",
    "from mlxtend.feature_selection import SequentialFeatureSelector as SFS\n",
    "from sklearn.model_selection import validation_curve, cross_val_score, learning_curve, train_test_split, RandomizedSearchCV\n",
    "from sklearn.linear_model import LogisticRegressionCV, LogisticRegression\n",
    "from sklearn.ensemble import RandomForestClassifier\n",
    "from sklearn.preprocessing import LabelBinarizer, StandardScaler\n",
    "from sklearn.svm import SVC\n",
    "import warnings\n",
    "from sklearn import preprocessing\n",
    "from sklearn.metrics import roc_curve, roc_auc_score\n",
    "from sklearn.model_selection import ShuffleSplit\n",
    "\n",
    "\n",
    "warnings.filterwarnings(\"ignore\", category=FutureWarning)"
   ]
  },
  {
   "cell_type": "markdown",
   "metadata": {},
   "source": [
    "# Coding Challenge\n",
    "## Objective: improve performance\n",
    "### Benchmark: https://triamus.github.io/project/lending-club-loan-data-in-r/#loan-amount-and-income\n",
    "\n",
    "Some steps with preprocessing data was skipped, due to time constraint. The project is mainly supposed to show the improvement of the performance"
   ]
  },
  {
   "cell_type": "markdown",
   "metadata": {},
   "source": [
    "# 1. First Steps\n",
    "\n",
    "<li> Load Data \n",
    "<li> Use algorithm/ techinques to intelligently remove rest of the features"
   ]
  },
  {
   "cell_type": "markdown",
   "metadata": {},
   "source": [
    "## Load Data"
   ]
  },
  {
   "cell_type": "code",
   "execution_count": 17,
   "metadata": {},
   "outputs": [],
   "source": [
    "dat = np.load(\"data.npz\",allow_pickle=True)\n",
    "values = dat[\"arr_0\"]\n",
    "header = dat[\"arr_1\"]\n",
    "dt = pd.DataFrame(values,columns = header)"
   ]
  },
  {
   "cell_type": "code",
   "execution_count": null,
   "metadata": {},
   "outputs": [],
   "source": []
  },
  {
   "cell_type": "markdown",
   "metadata": {},
   "source": [
    "# Feature Selection \n",
    "\n",
    "Problem of using all variables? Overfitting. Instead of handpicking variables, I'll try to use an algorithm to pick \"right\" features.\n",
    "<br>\n",
    "Options:\n",
    "<li> Forward Selection\n",
    "<li> Backward Selection\n",
    "<li> Mutual Information Classification\n",
    "<br>\n",
    "Due to computing capacity and a sizable dataset, I'll use Mutual Information Classification to pick up first 30 and then Forward Selection to get 10 \"best\" features. In that way I will skip features that are correlated to each other."
   ]
  },
  {
   "cell_type": "markdown",
   "metadata": {},
   "source": [
    "## Mutual Information Classification"
   ]
  },
  {
   "cell_type": "markdown",
   "metadata": {},
   "source": [
    "Given variables $X$ and $Y$, Mutual information (MI) measures the information that $X$ and $Y$ share. We will first calculate MI for each variable and pick up \"top\" 40 features.\n",
    "\n",
    "NOTE: On my computer this section run for over 2 hours. I uploaded parameters that can be loaded directly. To save time proceed to next section to load parameters."
   ]
  },
  {
   "cell_type": "code",
   "execution_count": 18,
   "metadata": {},
   "outputs": [],
   "source": [
    "X = dt.drop(\"loan_status\", axis=1)\n",
    "y = dt[\"loan_status\"]"
   ]
  },
  {
   "cell_type": "code",
   "execution_count": 21,
   "metadata": {},
   "outputs": [],
   "source": [
    "x_train, x_test, y_train, y_test = train_test_split(X, y, test_size=0.3, random_state=0)"
   ]
  },
  {
   "cell_type": "code",
   "execution_count": 22,
   "metadata": {},
   "outputs": [
    {
     "data": {
      "text/plain": [
       "array([9.56982197e-03, 9.74521037e-03, 8.67090192e-03, 1.07573121e-01,\n",
       "       4.34857431e-02, 3.38541568e-02, 7.12067888e-02, 3.22440664e-02,\n",
       "       4.17404710e-03, 2.05809113e-04, 6.02778197e-03, 3.01477774e-03,\n",
       "       2.32524959e-03, 1.66777032e-02, 1.01894601e-03, 8.46115133e-04,\n",
       "       7.71053379e-03, 3.66796306e-03, 8.96972972e-04, 2.60786583e-03,\n",
       "       3.92096017e-03, 5.10363161e-02, 4.02431848e-02, 4.02253195e-02,\n",
       "       1.00335615e-01, 9.72672907e-02, 5.17325655e-01, 2.71680560e-02,\n",
       "       2.64607058e-02, 2.41328181e-01, 2.27000439e-01, 3.29450815e-01,\n",
       "       6.69603049e-02, 0.00000000e+00, 1.12394934e-03, 1.42765601e-01,\n",
       "       3.59398528e-03, 6.12802883e-03, 2.75865965e-04, 5.03055818e-04,\n",
       "       3.49377200e-03, 7.10840087e-03, 9.99199224e-03, 5.54089403e-03,\n",
       "       9.66304752e-03, 5.66709516e-03, 4.43024300e-03, 5.82852019e-03,\n",
       "       9.25025122e-03, 1.12392900e-02, 5.53735872e-03, 7.03804395e-03,\n",
       "       3.88011998e-03, 6.09430679e-03, 2.80323243e-03, 1.00277253e-02,\n",
       "       1.64738651e-02, 4.79102681e-03, 3.44368595e-03, 2.37883013e-03,\n",
       "       3.38414533e-04, 0.00000000e+00, 1.53823204e-02, 3.38958156e-03,\n",
       "       1.74694912e-02, 1.50024306e-02, 1.35344176e-02, 9.00446320e-03,\n",
       "       4.87110586e-03, 9.22787454e-03, 5.65000291e-03, 1.53486036e-02,\n",
       "       8.28333498e-03, 4.94120948e-04, 0.00000000e+00, 7.88311782e-04,\n",
       "       2.24718419e-02, 1.55424023e-02, 2.27181904e-03, 7.05167203e-04,\n",
       "       7.63163557e-04, 4.65385262e-04, 4.16006910e-04, 1.11003926e-03,\n",
       "       9.38086977e-04, 1.13606792e-03, 1.14559825e-03, 7.79772252e-04,\n",
       "       0.00000000e+00, 6.88576716e-04, 9.16064348e-04, 4.40426583e-03,\n",
       "       4.14253971e-03, 4.81500618e-03, 1.95401618e-03, 4.20214178e-03,\n",
       "       4.12450010e-03, 4.56323823e-03, 1.90268227e-02, 2.31092609e-02,\n",
       "       1.53019482e-02, 4.54944550e-03, 8.60357611e-05, 9.56922258e-03,\n",
       "       5.15857684e-02, 0.00000000e+00, 7.41958837e-04, 0.00000000e+00,\n",
       "       0.00000000e+00, 0.00000000e+00, 3.73764155e-04, 0.00000000e+00,\n",
       "       0.00000000e+00, 0.00000000e+00, 0.00000000e+00, 2.53382087e-04,\n",
       "       4.73554214e-05, 4.17974950e-02, 3.44218854e-04, 0.00000000e+00,\n",
       "       1.23979553e-03, 2.51068194e-02, 4.07893142e-04, 7.62648987e-04,\n",
       "       7.25444466e-04, 0.00000000e+00, 5.20360901e-04, 6.85333189e-05,\n",
       "       0.00000000e+00, 1.50060568e-01, 0.00000000e+00, 1.06964359e-03])"
      ]
     },
     "execution_count": 22,
     "metadata": {},
     "output_type": "execute_result"
    }
   ],
   "source": [
    "# If paramteters exist, load. Else, mutual information.\n",
    "mutual_info = mutual_info_classif(x_train, y_train)\n",
    "mutual_info"
   ]
  },
  {
   "cell_type": "code",
   "execution_count": 23,
   "metadata": {
    "scrolled": false
   },
   "outputs": [
    {
     "data": {
      "text/plain": [
       "total_rec_prncp                               0.517326\n",
       "last_pymnt_amnt                               0.329451\n",
       "recoveries                                    0.241328\n",
       "collection_recovery_fee                       0.227000\n",
       "NO_HARDSHIP                                   0.150061\n",
       "application_type                              0.142766\n",
       "term                                          0.107573\n",
       "total_pymnt                                   0.100336\n",
       "total_pymnt_inv                               0.097267\n",
       "grade                                         0.071207\n",
       "last_credit_pull_d                            0.066960\n",
       "debt_consolidation                            0.051586\n",
       "initial_list_status                           0.051036\n",
       "int_rate                                      0.043486\n",
       "MORTGAGE                                      0.041797\n",
       "out_prncp                                     0.040243\n",
       "out_prncp_inv                                 0.040225\n",
       "installment                                   0.033854\n",
       "emp_length                                    0.032244\n",
       "total_rec_int                                 0.027168\n",
       "total_rec_late_fee                            0.026461\n",
       "RENT                                          0.025107\n",
       "Source Verified                               0.023109\n",
       "num_tl_op_past_12m                            0.022472\n",
       "Not Verified                                  0.019027\n",
       "num_actv_bc_tl                                0.017469\n",
       "inq_last_6mths                                0.016678\n",
       "acc_open_past_24mths                          0.016474\n",
       "percent_bc_gt_75                              0.015542\n",
       "mort_acc                                      0.015382\n",
       "num_rev_tl_bal_gt_0                           0.015349\n",
       "Verified                                      0.015302\n",
       "num_actv_rev_tl                               0.015002\n",
       "num_bc_sats                                   0.013534\n",
       "open_rv_24m                                   0.011239\n",
       "inq_last_12m                                  0.010028\n",
       "open_act_il                                   0.009992\n",
       "funded_amnt                                   0.009745\n",
       "open_il_24m                                   0.009663\n",
       "loan_amnt                                     0.009570\n",
       "credit_card                                   0.009569\n",
       "open_rv_12m                                   0.009250\n",
       "num_op_rev_tl                                 0.009228\n",
       "num_bc_tl                                     0.009004\n",
       "funded_amnt_inv                               0.008671\n",
       "num_sats                                      0.008283\n",
       "open_acc                                      0.007711\n",
       "open_acc_6m                                   0.007108\n",
       "all_util                                      0.007038\n",
       "dti_joint                                     0.006128\n",
       "inq_fi                                        0.006094\n",
       "dti                                           0.006028\n",
       "il_util                                       0.005829\n",
       "mths_since_rcnt_il                            0.005667\n",
       "num_rev_accts                                 0.005650\n",
       "open_il_12m                                   0.005541\n",
       "max_bal_bc                                    0.005537\n",
       "num_il_tl                                     0.004871\n",
       "hardship_length                               0.004815\n",
       "avg_cur_bal                                   0.004791\n",
       "INTEREST ONLY-3 MONTHS DEFERRAL               0.004563\n",
       "harship_len                                   0.004549\n",
       "total_bal_il                                  0.004430\n",
       "deferral_term                                 0.004404\n",
       "hardship_payoff_balance_amount                0.004202\n",
       "annual_inc                                    0.004174\n",
       "hardship_amount                               0.004143\n",
       "hardship_last_payment_amount                  0.004125\n",
       "total_acc                                     0.003921\n",
       "total_rev_hi_lim                              0.003880\n",
       "pub_rec                                       0.003668\n",
       "annual_inc_joint                              0.003594\n",
       "tot_cur_bal                                   0.003494\n",
       "bc_open_to_buy                                0.003444\n",
       "num_accts_ever_120_pd                         0.003390\n",
       "delinq_2yrs                                   0.003015\n",
       "total_cu_tl                                   0.002803\n",
       "revol_util                                    0.002608\n",
       "bc_util                                       0.002379\n",
       "earliest_cr_line                              0.002325\n",
       "pub_rec_bankruptcies                          0.002272\n",
       "orig_projected_additional_accrued_interest    0.001954\n",
       "OWN                                           0.001240\n",
       "sec_app_num_rev_accts                         0.001146\n",
       "sec_app_open_act_il                           0.001136\n",
       "mths_since_last_major_derog                   0.001124\n",
       "sec_app_open_acc                              0.001110\n",
       "UNEMPLOYMENT                                  0.001070\n",
       "mths_since_last_delinq                        0.001019\n",
       "sec_app_revol_util                            0.000938\n",
       "hardship_flag                                 0.000916\n",
       "revol_bal                                     0.000897\n",
       "mths_since_last_record                        0.000846\n",
       "num_tl_90g_dpd_24m                            0.000788\n",
       "sec_app_chargeoff_within_12_mths              0.000780\n",
       "revol_bal_joint                               0.000763\n",
       "DIVORCE                                       0.000763\n",
       "home_improvement                              0.000742\n",
       "EXCESSIVE_OBLIGATIONS                         0.000725\n",
       "tax_liens                                     0.000705\n",
       "sec_app_mths_since_last_major_derog           0.000689\n",
       "INCOME_CURTAILMENT                            0.000520\n",
       "tot_coll_amt                                  0.000503\n",
       "num_tl_120dpd_2m                              0.000494\n",
       "sec_app_inq_last_6mths                        0.000465\n",
       "sec_app_mort_acc                              0.000416\n",
       "DISABILITY                                    0.000408\n",
       "moving                                        0.000374\n",
       "NONE                                          0.000344\n",
       "chargeoff_within_12_mths                      0.000338\n",
       "acc_now_delinq                                0.000276\n",
       "wedding                                       0.000253\n",
       "pymnt_plan                                    0.000206\n",
       "car                                           0.000086\n",
       "MEDICAL                                       0.000069\n",
       "ANY                                           0.000047\n",
       "num_tl_30dpd                                  0.000000\n",
       "medical                                       0.000000\n",
       "NATURAL_DISASTER                              0.000000\n",
       "educational                                   0.000000\n",
       "house                                         0.000000\n",
       "FAMILY_DEATH                                  0.000000\n",
       "major_purchase                                0.000000\n",
       "REDUCED_HOURS                                 0.000000\n",
       "OTHER                                         0.000000\n",
       "other                                         0.000000\n",
       "sec_app_collections_12_mths_ex_med            0.000000\n",
       "renewable_energy                              0.000000\n",
       "delinq_amnt                                   0.000000\n",
       "small_business                                0.000000\n",
       "vacation                                      0.000000\n",
       "collections_12_mths_ex_med                    0.000000\n",
       "dtype: float64"
      ]
     },
     "execution_count": 23,
     "metadata": {},
     "output_type": "execute_result"
    }
   ],
   "source": [
    "mi_series = pd.Series(mutual_info)\n",
    "mi_series.index = X.columns\n",
    "mi_series.sort_values(ascending=False)"
   ]
  },
  {
   "cell_type": "code",
   "execution_count": 24,
   "metadata": {},
   "outputs": [
    {
     "data": {
      "image/png": "[encoded data removed]",
      "text/plain": [
       "<Figure size 1440x576 with 1 Axes>"
      ]
     },
     "metadata": {
      "needs_background": "light"
     },
     "output_type": "display_data"
    }
   ],
   "source": [
    "mi_series.sort_values(ascending=False).plot.bar(figsize=(20,8))\n",
    "plt.show()"
   ]
  },
  {
   "cell_type": "code",
   "execution_count": 25,
   "metadata": {},
   "outputs": [],
   "source": [
    "# If saved parameters exist, load. Else, run function for best features \n",
    "k_best_features = SelectKBest(mutual_info_classif, k=30).fit(x_train, y_train)"
   ]
  },
  {
   "cell_type": "code",
   "execution_count": 26,
   "metadata": {},
   "outputs": [
    {
     "name": "stdout",
     "output_type": "stream",
     "text": [
      "Selected top 30 features: Index(['term', 'int_rate', 'installment', 'grade', 'emp_length',\n",
      "       'inq_last_6mths', 'initial_list_status', 'out_prncp', 'out_prncp_inv',\n",
      "       'total_pymnt', 'total_pymnt_inv', 'total_rec_prncp', 'total_rec_int',\n",
      "       'total_rec_late_fee', 'recoveries', 'collection_recovery_fee',\n",
      "       'last_pymnt_amnt', 'last_credit_pull_d', 'application_type',\n",
      "       'acc_open_past_24mths', 'mort_acc', 'num_actv_bc_tl',\n",
      "       'num_tl_op_past_12m', 'percent_bc_gt_75', 'Not Verified',\n",
      "       'Source Verified', 'debt_consolidation', 'MORTGAGE', 'RENT',\n",
      "       'NO_HARDSHIP'],\n",
      "      dtype='object')\n"
     ]
    }
   ],
   "source": [
    "print('Selected top 30 features: {}'.format(x_train.columns[k_best_features.get_support()]))"
   ]
  },
  {
   "cell_type": "code",
   "execution_count": 27,
   "metadata": {},
   "outputs": [],
   "source": [
    "columns_mutual_information = x_train.columns[k_best_features.get_support()]"
   ]
  },
  {
   "cell_type": "code",
   "execution_count": 28,
   "metadata": {},
   "outputs": [],
   "source": [
    "X = X[columns_mutual_information]"
   ]
  },
  {
   "cell_type": "code",
   "execution_count": 31,
   "metadata": {},
   "outputs": [
    {
     "data": {
      "text/plain": [
       "Index(['term', 'int_rate', 'installment', 'grade', 'emp_length',\n",
       "       'inq_last_6mths', 'initial_list_status', 'out_prncp', 'out_prncp_inv',\n",
       "       'total_pymnt', 'total_pymnt_inv', 'total_rec_prncp', 'total_rec_int',\n",
       "       'total_rec_late_fee', 'recoveries', 'collection_recovery_fee',\n",
       "       'last_pymnt_amnt', 'last_credit_pull_d', 'application_type',\n",
       "       'acc_open_past_24mths', 'mort_acc', 'num_actv_bc_tl',\n",
       "       'num_tl_op_past_12m', 'percent_bc_gt_75', 'Not Verified',\n",
       "       'Source Verified', 'debt_consolidation', 'MORTGAGE', 'RENT',\n",
       "       'NO_HARDSHIP'],\n",
       "      dtype='object')"
      ]
     },
     "execution_count": 31,
     "metadata": {},
     "output_type": "execute_result"
    }
   ],
   "source": [
    "columns_mutual_information"
   ]
  },
  {
   "cell_type": "markdown",
   "metadata": {},
   "source": [
    "# Using Left Features Use Forward Selection to pick up 12 variables\n",
    "\n",
    "I will use a Forward Looking Algorithm using a simple logistic regression"
   ]
  },
  {
   "cell_type": "code",
   "execution_count": 30,
   "metadata": {},
   "outputs": [],
   "source": [
    "logisticRegr = LogisticRegression()\n"
   ]
  },
  {
   "cell_type": "code",
   "execution_count": 36,
   "metadata": {},
   "outputs": [
    {
     "name": "stderr",
     "output_type": "stream",
     "text": [
      "[Parallel(n_jobs=-1)]: Using backend LokyBackend with 4 concurrent workers.\n",
      "[Parallel(n_jobs=-1)]: Done  30 out of  30 | elapsed:   48.0s finished\n",
      "\n",
      "[2019-08-13 01:48:36] Features: 1/15 -- score: 0.5862724661431761[Parallel(n_jobs=-1)]: Using backend LokyBackend with 4 concurrent workers.\n",
      "[Parallel(n_jobs=-1)]: Done  29 out of  29 | elapsed:  1.2min finished\n",
      "\n",
      "[2019-08-13 01:49:47] Features: 2/15 -- score: 0.7004534576953725[Parallel(n_jobs=-1)]: Using backend LokyBackend with 4 concurrent workers.\n",
      "[Parallel(n_jobs=-1)]: Done  28 out of  28 | elapsed:  1.3min finished\n",
      "\n",
      "[2019-08-13 01:51:02] Features: 3/15 -- score: 0.7286410937642669[Parallel(n_jobs=-1)]: Using backend LokyBackend with 4 concurrent workers.\n",
      "[Parallel(n_jobs=-1)]: Done  27 out of  27 | elapsed:  1.3min finished\n",
      "\n",
      "[2019-08-13 01:52:19] Features: 4/15 -- score: 0.8685868290305369[Parallel(n_jobs=-1)]: Using backend LokyBackend with 4 concurrent workers.\n",
      "[Parallel(n_jobs=-1)]: Done  26 out of  26 | elapsed:  1.5min finished\n",
      "\n",
      "[2019-08-13 01:53:50] Features: 5/15 -- score: 0.8688212151590138[Parallel(n_jobs=-1)]: Using backend LokyBackend with 4 concurrent workers.\n",
      "[Parallel(n_jobs=-1)]: Done  25 out of  25 | elapsed:  1.8min finished\n",
      "\n",
      "[2019-08-13 01:55:37] Features: 6/15 -- score: 0.8701279723130086[Parallel(n_jobs=-1)]: Using backend LokyBackend with 4 concurrent workers.\n",
      "[Parallel(n_jobs=-1)]: Done  24 out of  24 | elapsed:  2.2min finished\n",
      "\n",
      "[2019-08-13 01:57:50] Features: 7/15 -- score: 0.8723169686951231[Parallel(n_jobs=-1)]: Using backend LokyBackend with 4 concurrent workers.\n",
      "[Parallel(n_jobs=-1)]: Done  23 out of  23 | elapsed:  2.0min finished\n",
      "\n",
      "[2019-08-13 01:59:48] Features: 8/15 -- score: 0.869603092810571[Parallel(n_jobs=-1)]: Using backend LokyBackend with 4 concurrent workers.\n",
      "[Parallel(n_jobs=-1)]: Done  22 out of  22 | elapsed:  1.7min finished\n",
      "\n",
      "[2019-08-13 02:01:29] Features: 9/15 -- score: 0.8667218299777348[Parallel(n_jobs=-1)]: Using backend LokyBackend with 4 concurrent workers.\n",
      "[Parallel(n_jobs=-1)]: Done  21 out of  21 | elapsed:  1.7min finished\n",
      "\n",
      "[2019-08-13 02:03:13] Features: 10/15 -- score: 0.8710995614502739[Parallel(n_jobs=-1)]: Using backend LokyBackend with 4 concurrent workers.\n",
      "[Parallel(n_jobs=-1)]: Done  20 out of  20 | elapsed:  1.8min finished\n",
      "\n",
      "[2019-08-13 02:05:00] Features: 11/15 -- score: 0.873947436318819[Parallel(n_jobs=-1)]: Using backend LokyBackend with 4 concurrent workers.\n",
      "[Parallel(n_jobs=-1)]: Done  19 out of  19 | elapsed:  2.2min finished\n",
      "\n",
      "[2019-08-13 02:07:13] Features: 12/15 -- score: 0.8632594781252896[Parallel(n_jobs=-1)]: Using backend LokyBackend with 4 concurrent workers.\n",
      "[Parallel(n_jobs=-1)]: Done  18 out of  18 | elapsed:  2.3min finished\n",
      "\n",
      "[2019-08-13 02:09:31] Features: 13/15 -- score: 0.8857629136744766[Parallel(n_jobs=-1)]: Using backend LokyBackend with 4 concurrent workers.\n",
      "[Parallel(n_jobs=-1)]: Done  17 out of  17 | elapsed:  2.2min finished\n",
      "\n",
      "[2019-08-13 02:11:46] Features: 14/15 -- score: 0.8838753493716208[Parallel(n_jobs=-1)]: Using backend LokyBackend with 4 concurrent workers.\n",
      "[Parallel(n_jobs=-1)]: Done  16 out of  16 | elapsed:  2.5min finished\n",
      "\n",
      "[2019-08-13 02:14:17] Features: 15/15 -- score: 0.9025706724486922"
     ]
    }
   ],
   "source": [
    "X_train, X_test, y_train, y_test = train_test_split(X, y, test_size=0.30, random_state=42)\n",
    "\n",
    "\n",
    "X_forward = X_train[columns_mutual_information]\n",
    "X_forward_test = X_test[columns_mutual_information]\n",
    "\n",
    "\n",
    "\n",
    "sfs1 = SFS(logisticRegr,\n",
    "           k_features=15,\n",
    "           forward=True,\n",
    "           floating=False,\n",
    "           verbose=2,\n",
    "           scoring='recall',\n",
    "           cv=5,\n",
    "           n_jobs=-1)\n",
    "\n",
    "mu_col = sfs1.fit(X_forward_test, y_test)"
   ]
  },
  {
   "cell_type": "code",
   "execution_count": 110,
   "metadata": {},
   "outputs": [],
   "source": [
    "columns_forward = list(sfs1.subsets_[10]['feature_names'])"
   ]
  },
  {
   "cell_type": "code",
   "execution_count": 48,
   "metadata": {},
   "outputs": [
    {
     "data": {
      "text/plain": [
       "['int_rate',\n",
       " 'installment',\n",
       " 'grade',\n",
       " 'out_prncp',\n",
       " 'total_pymnt_inv',\n",
       " 'total_rec_late_fee',\n",
       " 'recoveries',\n",
       " 'collection_recovery_fee',\n",
       " 'Source Verified',\n",
       " 'NO_HARDSHIP']"
      ]
     },
     "execution_count": 48,
     "metadata": {},
     "output_type": "execute_result"
    }
   ],
   "source": [
    "columns_forward"
   ]
  },
  {
   "cell_type": "code",
   "execution_count": 49,
   "metadata": {},
   "outputs": [],
   "source": [
    "X = X[columns_forward]"
   ]
  },
  {
   "cell_type": "code",
   "execution_count": 130,
   "metadata": {},
   "outputs": [],
   "source": [
    "X_train, X_test, y_train, y_test = train_test_split(X, y, test_size=0.3, random_state=1)\n",
    "\n"
   ]
  },
  {
   "cell_type": "code",
   "execution_count": 131,
   "metadata": {},
   "outputs": [],
   "source": [
    "scaler = StandardScaler()\n",
    "X_train_scale = scaler.fit_transform(X_train)\n",
    "X_test_scale = scaler.fit_transform(X_test)\n"
   ]
  },
  {
   "cell_type": "markdown",
   "metadata": {},
   "source": [
    "# Part 6: Try with new variable set\n",
    "First, I will use the new parameters with a simple logisti regression, then I will experiement around with SVM. Finally, the plan is to set up a small neural network."
   ]
  },
  {
   "cell_type": "code",
   "execution_count": 132,
   "metadata": {},
   "outputs": [],
   "source": [
    "logisticRegr = LogisticRegression(random_state = 0)\n"
   ]
  },
  {
   "cell_type": "code",
   "execution_count": 134,
   "metadata": {},
   "outputs": [
    {
     "name": "stdout",
     "output_type": "stream",
     "text": [
      "F1: 0.9439762897449617\n",
      "Accuracy: 0.976318137865376\n",
      "Precision: 0.9911092451502167\n",
      "Recall: 0.9011227124733355\n",
      "ROC: 0.9494120080128896\n"
     ]
    }
   ],
   "source": [
    "logisticRegr.fit(X_train_scale, y_train)\n",
    "predictions = logisticRegr.predict(X_test_scale)\n",
    "\n",
    "\n",
    "print(\"F1: \" + str(metrics.f1_score(y_test, predictions)))\n",
    "print(\"Accuracy: \" + str(metrics.accuracy_score(y_test, predictions)))\n",
    "print(\"Precision: \" + str(metrics.precision_score(y_test, predictions)))\n",
    "print(\"Recall: \" + str(metrics.recall_score(y_test, predictions)))\n",
    "print(\"ROC: \" + str(metrics.roc_auc_score(y_test, predictions)))"
   ]
  },
  {
   "cell_type": "code",
   "execution_count": null,
   "metadata": {},
   "outputs": [],
   "source": []
  },
  {
   "cell_type": "code",
   "execution_count": null,
   "metadata": {},
   "outputs": [],
   "source": []
  },
  {
   "cell_type": "markdown",
   "metadata": {},
   "source": [
    "# Regularization"
   ]
  },
  {
   "cell_type": "code",
   "execution_count": 56,
   "metadata": {},
   "outputs": [],
   "source": [
    "logisticRegr = LogisticRegression(penalty='l2', random_state = 0, C=100)\n"
   ]
  },
  {
   "cell_type": "code",
   "execution_count": 58,
   "metadata": {},
   "outputs": [
    {
     "name": "stdout",
     "output_type": "stream",
     "text": [
      "F1: 0.9398909041481245\n",
      "Accuracy: 0.9747173066262979\n",
      "Precision: 0.9922634422690575\n",
      "Recall: 0.8927697316717189\n"
     ]
    }
   ],
   "source": [
    "logisticRegr.fit(X_train_scale, y_train)\n",
    "predictions = logisticRegr.predict(X_test_scale)\n",
    "\n",
    "\n",
    "print(\"F1: \" + str(metrics.f1_score(y_test, predictions)))\n",
    "print(\"Accuracy: \" + str(metrics.accuracy_score(y_test, predictions)))\n",
    "print(\"Precision: \" + str(metrics.precision_score(y_test, predictions)))\n",
    "print(\"Recall: \" + str(metrics.recall_score(y_test, predictions)))"
   ]
  },
  {
   "cell_type": "code",
   "execution_count": 59,
   "metadata": {},
   "outputs": [
    {
     "name": "stdout",
     "output_type": "stream",
     "text": [
      "[[312601    620]\n",
      " [  9551  79519]]\n"
     ]
    }
   ],
   "source": [
    "print(metrics.confusion_matrix(y_test, predictions))"
   ]
  },
  {
   "cell_type": "markdown",
   "metadata": {},
   "source": [
    "# CV"
   ]
  },
  {
   "cell_type": "code",
   "execution_count": 61,
   "metadata": {
    "scrolled": true
   },
   "outputs": [
    {
     "name": "stderr",
     "output_type": "stream",
     "text": [
      "[Parallel(n_jobs=-1)]: Using backend LokyBackend with 4 concurrent workers.\n",
      "[Parallel(n_jobs=-1)]: Done   5 out of   5 | elapsed:   22.9s finished\n",
      "[Parallel(n_jobs=-1)]: Using backend LokyBackend with 4 concurrent workers.\n",
      "[Parallel(n_jobs=-1)]: Done   5 out of   5 | elapsed:   20.9s finished\n",
      "[Parallel(n_jobs=-1)]: Using backend LokyBackend with 4 concurrent workers.\n",
      "[Parallel(n_jobs=-1)]: Done   5 out of   5 | elapsed:   19.0s finished\n",
      "[Parallel(n_jobs=-1)]: Using backend LokyBackend with 4 concurrent workers.\n"
     ]
    },
    {
     "name": "stdout",
     "output_type": "stream",
     "text": [
      "F1 0.9457352311357795\n",
      "Accuracy 0.9912447625574675\n",
      "Precision 0.9912447625574675\n",
      "Recall 0.9042233637333934\n"
     ]
    },
    {
     "name": "stderr",
     "output_type": "stream",
     "text": [
      "[Parallel(n_jobs=-1)]: Done   5 out of   5 | elapsed:   19.7s finished\n"
     ]
    }
   ],
   "source": [
    "# Using CV\n",
    "classifier = LogisticRegression()\n",
    "f1 = cross_val_score(classifier, X_train_scale, y_train, cv=5, scoring='f1', verbose=1, n_jobs=-1)\n",
    "recall = cross_val_score(classifier, X_train_scale, y_train, cv=5, scoring='recall', verbose=1, n_jobs=-1)\n",
    "accuracy = cross_val_score(classifier, X_train_scale, y_train, cv=5, scoring='accuracy', verbose=1, n_jobs=-1)\n",
    "scores = cross_val_score(classifier, X_train_scale, y_train, cv=5, scoring='precision', verbose=1, n_jobs=-1)\n",
    "\n",
    "print('F1' , np.mean(f1))\n",
    "print('Accuracy' , np.mean(scores))\n",
    "print('Precision' , np.mean(scores))\n",
    "print('Recall' , np.mean(recall))\n"
   ]
  },
  {
   "cell_type": "markdown",
   "metadata": {},
   "source": [
    "# Learning Curves"
   ]
  },
  {
   "cell_type": "code",
   "execution_count": 62,
   "metadata": {},
   "outputs": [
    {
     "data": {
      "text/plain": [
       "array([0.2, 0.3, 0.4, 0.5, 0.6, 0.7, 0.8, 0.9])"
      ]
     },
     "execution_count": 62,
     "metadata": {},
     "output_type": "execute_result"
    }
   ],
   "source": [
    "train_size = np.arange(0.2, 1, 0.1)\n",
    "train_size"
   ]
  },
  {
   "cell_type": "code",
   "execution_count": 63,
   "metadata": {},
   "outputs": [
    {
     "name": "stdout",
     "output_type": "stream",
     "text": [
      "Training scores:\n",
      "\n",
      " [[0.98901567 0.9886395  0.9886395  0.9886395  0.9886395 ]\n",
      " [0.98859586 0.98860747 0.98879893 0.98879893 0.98879893]\n",
      " [0.98893656 0.98894228 0.98885917 0.98885917 0.98885917]\n",
      " [0.98895403 0.98895156 0.9888112  0.98881391 0.98881391]\n",
      " [0.9889146  0.98891321 0.98879247 0.98897864 0.98897864]\n",
      " [0.98896893 0.98896638 0.9888666  0.98895193 0.98895193]\n",
      " [0.98902329 0.98901882 0.98893633 0.98898338 0.9889604 ]\n",
      " [0.98914823 0.98914461 0.98906896 0.98911239 0.9890943 ]]\n",
      "\n",
      " ----------------------------------------------------------------------\n",
      "\n",
      "Validation scores:\n",
      "\n",
      " [[0.98840733 0.98859734 0.98880109 0.98853022 0.98872069]\n",
      " [0.98860145 0.98877086 0.98895444 0.98870817 0.98889146]\n",
      " [0.98865614 0.98880103 0.9889807  0.98872184 0.98891988]\n",
      " [0.98876711 0.98890423 0.98904236 0.98878529 0.98898065]\n",
      " [0.98880271 0.98893361 0.98908468 0.98882994 0.98902698]\n",
      " [0.98886746 0.98899433 0.98914844 0.98885895 0.98905812]\n",
      " [0.98891475 0.98903834 0.98919352 0.988927   0.98912613]\n",
      " [0.98892527 0.98904753 0.98920988 0.98894071 0.98916   ]]\n"
     ]
    }
   ],
   "source": [
    "train_sizes, train_scores, test_scores = learning_curve(estimator = LogisticRegression(),\n",
    "                                                        X = X_train_scale,\n",
    "                                                        y = y_train,\n",
    "                                                        train_sizes = train_size, \n",
    "                                                        cv = 5,\n",
    "                                                        scoring = 'roc_auc',\n",
    "                                                        n_jobs= -1)\n",
    "\n",
    "\n",
    "print('Training scores:\\n\\n', train_scores)\n",
    "print('\\n', '-' * 70) # separator to make the output easy to read\n",
    "print('\\nValidation scores:\\n\\n', test_scores)\n"
   ]
  },
  {
   "cell_type": "code",
   "execution_count": 64,
   "metadata": {},
   "outputs": [
    {
     "data": {
      "text/plain": [
       "(0.98, 1)"
      ]
     },
     "execution_count": 64,
     "metadata": {},
     "output_type": "execute_result"
    },
    {
     "data": {
      "image/png": "[encoded data removed]",
      "text/plain": [
       "<Figure size 1440x720 with 1 Axes>"
      ]
     },
     "metadata": {},
     "output_type": "display_data"
    }
   ],
   "source": [
    "train_scores_mean = train_scores.mean(axis = 1)\n",
    "test_scores_mean = test_scores.mean(axis = 1)\n",
    "\n",
    "plt.style.use('seaborn')\n",
    "plt.figure(figsize=(20,10))\n",
    "plt.plot(train_sizes, train_scores_mean, label = 'Training')\n",
    "plt.plot(train_sizes, test_scores_mean, label = 'Test')\n",
    "plt.ylabel('roc_auc', fontsize = 14)\n",
    "plt.xlabel('Training set size', fontsize = 14)\n",
    "plt.title('Learning', fontsize = 18, y = 1.03)\n",
    "plt.legend()\n",
    "plt.ylim(0.98,1)\n"
   ]
  },
  {
   "cell_type": "code",
   "execution_count": 65,
   "metadata": {},
   "outputs": [
    {
     "name": "stdout",
     "output_type": "stream",
     "text": [
      "Training scores:\n",
      "\n",
      " [[0.94672583 0.94501275 0.94501275 0.94501275 0.94501275]\n",
      " [0.94555514 0.94396289 0.94448239 0.94448239 0.94448239]\n",
      " [0.94615693 0.94515525 0.94588961 0.94588961 0.94588961]\n",
      " [0.94511884 0.94438742 0.94564083 0.94563126 0.94563126]\n",
      " [0.9455409  0.94481804 0.94595784 0.9459509  0.9459509 ]\n",
      " [0.94529094 0.94471752 0.94560778 0.94615405 0.94615405]\n",
      " [0.94498382 0.94436325 0.94528225 0.94548159 0.94560982]\n",
      " [0.94557143 0.94508045 0.945913   0.94606855 0.94555992]]\n",
      "\n",
      " ----------------------------------------------------------------------\n",
      "\n",
      "Validation scores:\n",
      "\n",
      " [[0.94651446 0.94482247 0.94523046 0.94657562 0.945806  ]\n",
      " [0.94545729 0.94409125 0.94457589 0.9458159  0.9451376 ]\n",
      " [0.94603358 0.94483869 0.94574306 0.94692976 0.94631682]\n",
      " [0.94499384 0.94430456 0.9458304  0.9471108  0.94656834]\n",
      " [0.9450295  0.94446123 0.94563932 0.94723763 0.94667152]\n",
      " [0.94462975 0.94426188 0.9453873  0.94767478 0.94704324]\n",
      " [0.9440526  0.94394277 0.94489339 0.94697198 0.94612464]\n",
      " [0.94477308 0.94446123 0.94526374 0.94732879 0.94590993]]\n"
     ]
    }
   ],
   "source": [
    "train_sizes, train_scores, test_scores = learning_curve(estimator = LogisticRegression(),\n",
    "                                                        X = X_train_scale,\n",
    "                                                        y = y_train,\n",
    "                                                        train_sizes = train_size, \n",
    "                                                        cv = 5,\n",
    "                                                        scoring = 'f1',\n",
    "                                                        n_jobs= -1)\n",
    "\n",
    "\n",
    "print('Training scores:\\n\\n', train_scores)\n",
    "print('\\n', '-' * 70) # separator to make the output easy to read\n",
    "print('\\nValidation scores:\\n\\n', test_scores)\n"
   ]
  },
  {
   "cell_type": "code",
   "execution_count": 91,
   "metadata": {},
   "outputs": [
    {
     "ename": "ValueError",
     "evalue": "x and y must have same first dimension, but have shapes (8,) and (5,)",
     "output_type": "error",
     "traceback": [
      "\u001b[0;31m---------------------------------------------------------------------------\u001b[0m",
      "\u001b[0;31mValueError\u001b[0m                                Traceback (most recent call last)",
      "\u001b[0;32m<ipython-input-91-c2627bd1cffa>\u001b[0m in \u001b[0;36m<module>\u001b[0;34m\u001b[0m\n\u001b[1;32m      4\u001b[0m \u001b[0mplt\u001b[0m\u001b[0;34m.\u001b[0m\u001b[0mstyle\u001b[0m\u001b[0;34m.\u001b[0m\u001b[0muse\u001b[0m\u001b[0;34m(\u001b[0m\u001b[0;34m'seaborn'\u001b[0m\u001b[0;34m)\u001b[0m\u001b[0;34m\u001b[0m\u001b[0;34m\u001b[0m\u001b[0m\n\u001b[1;32m      5\u001b[0m \u001b[0mplt\u001b[0m\u001b[0;34m.\u001b[0m\u001b[0mfigure\u001b[0m\u001b[0;34m(\u001b[0m\u001b[0mfigsize\u001b[0m\u001b[0;34m=\u001b[0m\u001b[0;34m(\u001b[0m\u001b[0;36m20\u001b[0m\u001b[0;34m,\u001b[0m\u001b[0;36m10\u001b[0m\u001b[0;34m)\u001b[0m\u001b[0;34m)\u001b[0m\u001b[0;34m\u001b[0m\u001b[0;34m\u001b[0m\u001b[0m\n\u001b[0;32m----> 6\u001b[0;31m \u001b[0mplt\u001b[0m\u001b[0;34m.\u001b[0m\u001b[0mplot\u001b[0m\u001b[0;34m(\u001b[0m\u001b[0mtrain_sizes\u001b[0m\u001b[0;34m,\u001b[0m \u001b[0mtrain_scores_mean\u001b[0m\u001b[0;34m,\u001b[0m \u001b[0mlabel\u001b[0m \u001b[0;34m=\u001b[0m \u001b[0;34m'Training'\u001b[0m\u001b[0;34m)\u001b[0m\u001b[0;34m\u001b[0m\u001b[0;34m\u001b[0m\u001b[0m\n\u001b[0m\u001b[1;32m      7\u001b[0m \u001b[0mplt\u001b[0m\u001b[0;34m.\u001b[0m\u001b[0mplot\u001b[0m\u001b[0;34m(\u001b[0m\u001b[0mtrain_sizes\u001b[0m\u001b[0;34m,\u001b[0m \u001b[0mtest_scores_mean\u001b[0m\u001b[0;34m,\u001b[0m \u001b[0mlabel\u001b[0m \u001b[0;34m=\u001b[0m \u001b[0;34m'Test'\u001b[0m\u001b[0;34m)\u001b[0m\u001b[0;34m\u001b[0m\u001b[0;34m\u001b[0m\u001b[0m\n\u001b[1;32m      8\u001b[0m \u001b[0mplt\u001b[0m\u001b[0;34m.\u001b[0m\u001b[0mylabel\u001b[0m\u001b[0;34m(\u001b[0m\u001b[0;34m'f1'\u001b[0m\u001b[0;34m,\u001b[0m \u001b[0mfontsize\u001b[0m \u001b[0;34m=\u001b[0m \u001b[0;36m14\u001b[0m\u001b[0;34m)\u001b[0m\u001b[0;34m\u001b[0m\u001b[0;34m\u001b[0m\u001b[0m\n",
      "\u001b[0;32m/Library/Frameworks/Python.framework/Versions/3.7/lib/python3.7/site-packages/matplotlib/pyplot.py\u001b[0m in \u001b[0;36mplot\u001b[0;34m(scalex, scaley, data, *args, **kwargs)\u001b[0m\n\u001b[1;32m   2787\u001b[0m     return gca().plot(\n\u001b[1;32m   2788\u001b[0m         *args, scalex=scalex, scaley=scaley, **({\"data\": data} if data\n\u001b[0;32m-> 2789\u001b[0;31m         is not None else {}), **kwargs)\n\u001b[0m\u001b[1;32m   2790\u001b[0m \u001b[0;34m\u001b[0m\u001b[0m\n\u001b[1;32m   2791\u001b[0m \u001b[0;34m\u001b[0m\u001b[0m\n",
      "\u001b[0;32m/Library/Frameworks/Python.framework/Versions/3.7/lib/python3.7/site-packages/matplotlib/axes/_axes.py\u001b[0m in \u001b[0;36mplot\u001b[0;34m(self, scalex, scaley, data, *args, **kwargs)\u001b[0m\n\u001b[1;32m   1664\u001b[0m         \"\"\"\n\u001b[1;32m   1665\u001b[0m         \u001b[0mkwargs\u001b[0m \u001b[0;34m=\u001b[0m \u001b[0mcbook\u001b[0m\u001b[0;34m.\u001b[0m\u001b[0mnormalize_kwargs\u001b[0m\u001b[0;34m(\u001b[0m\u001b[0mkwargs\u001b[0m\u001b[0;34m,\u001b[0m \u001b[0mmlines\u001b[0m\u001b[0;34m.\u001b[0m\u001b[0mLine2D\u001b[0m\u001b[0;34m.\u001b[0m\u001b[0m_alias_map\u001b[0m\u001b[0;34m)\u001b[0m\u001b[0;34m\u001b[0m\u001b[0;34m\u001b[0m\u001b[0m\n\u001b[0;32m-> 1666\u001b[0;31m         \u001b[0mlines\u001b[0m \u001b[0;34m=\u001b[0m \u001b[0;34m[\u001b[0m\u001b[0;34m*\u001b[0m\u001b[0mself\u001b[0m\u001b[0;34m.\u001b[0m\u001b[0m_get_lines\u001b[0m\u001b[0;34m(\u001b[0m\u001b[0;34m*\u001b[0m\u001b[0margs\u001b[0m\u001b[0;34m,\u001b[0m \u001b[0mdata\u001b[0m\u001b[0;34m=\u001b[0m\u001b[0mdata\u001b[0m\u001b[0;34m,\u001b[0m \u001b[0;34m**\u001b[0m\u001b[0mkwargs\u001b[0m\u001b[0;34m)\u001b[0m\u001b[0;34m]\u001b[0m\u001b[0;34m\u001b[0m\u001b[0;34m\u001b[0m\u001b[0m\n\u001b[0m\u001b[1;32m   1667\u001b[0m         \u001b[0;32mfor\u001b[0m \u001b[0mline\u001b[0m \u001b[0;32min\u001b[0m \u001b[0mlines\u001b[0m\u001b[0;34m:\u001b[0m\u001b[0;34m\u001b[0m\u001b[0;34m\u001b[0m\u001b[0m\n\u001b[1;32m   1668\u001b[0m             \u001b[0mself\u001b[0m\u001b[0;34m.\u001b[0m\u001b[0madd_line\u001b[0m\u001b[0;34m(\u001b[0m\u001b[0mline\u001b[0m\u001b[0;34m)\u001b[0m\u001b[0;34m\u001b[0m\u001b[0;34m\u001b[0m\u001b[0m\n",
      "\u001b[0;32m/Library/Frameworks/Python.framework/Versions/3.7/lib/python3.7/site-packages/matplotlib/axes/_base.py\u001b[0m in \u001b[0;36m__call__\u001b[0;34m(self, *args, **kwargs)\u001b[0m\n\u001b[1;32m    223\u001b[0m                 \u001b[0mthis\u001b[0m \u001b[0;34m+=\u001b[0m \u001b[0margs\u001b[0m\u001b[0;34m[\u001b[0m\u001b[0;36m0\u001b[0m\u001b[0;34m]\u001b[0m\u001b[0;34m,\u001b[0m\u001b[0;34m\u001b[0m\u001b[0;34m\u001b[0m\u001b[0m\n\u001b[1;32m    224\u001b[0m                 \u001b[0margs\u001b[0m \u001b[0;34m=\u001b[0m \u001b[0margs\u001b[0m\u001b[0;34m[\u001b[0m\u001b[0;36m1\u001b[0m\u001b[0;34m:\u001b[0m\u001b[0;34m]\u001b[0m\u001b[0;34m\u001b[0m\u001b[0;34m\u001b[0m\u001b[0m\n\u001b[0;32m--> 225\u001b[0;31m             \u001b[0;32myield\u001b[0m \u001b[0;32mfrom\u001b[0m \u001b[0mself\u001b[0m\u001b[0;34m.\u001b[0m\u001b[0m_plot_args\u001b[0m\u001b[0;34m(\u001b[0m\u001b[0mthis\u001b[0m\u001b[0;34m,\u001b[0m \u001b[0mkwargs\u001b[0m\u001b[0;34m)\u001b[0m\u001b[0;34m\u001b[0m\u001b[0;34m\u001b[0m\u001b[0m\n\u001b[0m\u001b[1;32m    226\u001b[0m \u001b[0;34m\u001b[0m\u001b[0m\n\u001b[1;32m    227\u001b[0m     \u001b[0;32mdef\u001b[0m \u001b[0mget_next_color\u001b[0m\u001b[0;34m(\u001b[0m\u001b[0mself\u001b[0m\u001b[0;34m)\u001b[0m\u001b[0;34m:\u001b[0m\u001b[0;34m\u001b[0m\u001b[0;34m\u001b[0m\u001b[0m\n",
      "\u001b[0;32m/Library/Frameworks/Python.framework/Versions/3.7/lib/python3.7/site-packages/matplotlib/axes/_base.py\u001b[0m in \u001b[0;36m_plot_args\u001b[0;34m(self, tup, kwargs)\u001b[0m\n\u001b[1;32m    389\u001b[0m             \u001b[0mx\u001b[0m\u001b[0;34m,\u001b[0m \u001b[0my\u001b[0m \u001b[0;34m=\u001b[0m \u001b[0mindex_of\u001b[0m\u001b[0;34m(\u001b[0m\u001b[0mtup\u001b[0m\u001b[0;34m[\u001b[0m\u001b[0;34m-\u001b[0m\u001b[0;36m1\u001b[0m\u001b[0;34m]\u001b[0m\u001b[0;34m)\u001b[0m\u001b[0;34m\u001b[0m\u001b[0;34m\u001b[0m\u001b[0m\n\u001b[1;32m    390\u001b[0m \u001b[0;34m\u001b[0m\u001b[0m\n\u001b[0;32m--> 391\u001b[0;31m         \u001b[0mx\u001b[0m\u001b[0;34m,\u001b[0m \u001b[0my\u001b[0m \u001b[0;34m=\u001b[0m \u001b[0mself\u001b[0m\u001b[0;34m.\u001b[0m\u001b[0m_xy_from_xy\u001b[0m\u001b[0;34m(\u001b[0m\u001b[0mx\u001b[0m\u001b[0;34m,\u001b[0m \u001b[0my\u001b[0m\u001b[0;34m)\u001b[0m\u001b[0;34m\u001b[0m\u001b[0;34m\u001b[0m\u001b[0m\n\u001b[0m\u001b[1;32m    392\u001b[0m \u001b[0;34m\u001b[0m\u001b[0m\n\u001b[1;32m    393\u001b[0m         \u001b[0;32mif\u001b[0m \u001b[0mself\u001b[0m\u001b[0;34m.\u001b[0m\u001b[0mcommand\u001b[0m \u001b[0;34m==\u001b[0m \u001b[0;34m'plot'\u001b[0m\u001b[0;34m:\u001b[0m\u001b[0;34m\u001b[0m\u001b[0;34m\u001b[0m\u001b[0m\n",
      "\u001b[0;32m/Library/Frameworks/Python.framework/Versions/3.7/lib/python3.7/site-packages/matplotlib/axes/_base.py\u001b[0m in \u001b[0;36m_xy_from_xy\u001b[0;34m(self, x, y)\u001b[0m\n\u001b[1;32m    268\u001b[0m         \u001b[0;32mif\u001b[0m \u001b[0mx\u001b[0m\u001b[0;34m.\u001b[0m\u001b[0mshape\u001b[0m\u001b[0;34m[\u001b[0m\u001b[0;36m0\u001b[0m\u001b[0;34m]\u001b[0m \u001b[0;34m!=\u001b[0m \u001b[0my\u001b[0m\u001b[0;34m.\u001b[0m\u001b[0mshape\u001b[0m\u001b[0;34m[\u001b[0m\u001b[0;36m0\u001b[0m\u001b[0;34m]\u001b[0m\u001b[0;34m:\u001b[0m\u001b[0;34m\u001b[0m\u001b[0;34m\u001b[0m\u001b[0m\n\u001b[1;32m    269\u001b[0m             raise ValueError(\"x and y must have same first dimension, but \"\n\u001b[0;32m--> 270\u001b[0;31m                              \"have shapes {} and {}\".format(x.shape, y.shape))\n\u001b[0m\u001b[1;32m    271\u001b[0m         \u001b[0;32mif\u001b[0m \u001b[0mx\u001b[0m\u001b[0;34m.\u001b[0m\u001b[0mndim\u001b[0m \u001b[0;34m>\u001b[0m \u001b[0;36m2\u001b[0m \u001b[0;32mor\u001b[0m \u001b[0my\u001b[0m\u001b[0;34m.\u001b[0m\u001b[0mndim\u001b[0m \u001b[0;34m>\u001b[0m \u001b[0;36m2\u001b[0m\u001b[0;34m:\u001b[0m\u001b[0;34m\u001b[0m\u001b[0;34m\u001b[0m\u001b[0m\n\u001b[1;32m    272\u001b[0m             raise ValueError(\"x and y can be no greater than 2-D, but have \"\n",
      "\u001b[0;31mValueError\u001b[0m: x and y must have same first dimension, but have shapes (8,) and (5,)"
     ]
    },
    {
     "data": {
      "image/png": "[encoded data removed]",
      "text/plain": [
       "<Figure size 1440x720 with 1 Axes>"
      ]
     },
     "metadata": {},
     "output_type": "display_data"
    }
   ],
   "source": [
    "train_scores_mean = train_scores.mean(axis = 1)\n",
    "test_scores_mean = test_scores.mean(axis = 1)\n",
    "\n",
    "plt.style.use('seaborn')\n",
    "plt.figure(figsize=(20,10))\n",
    "plt.plot(train_sizes, train_scores_mean, label = 'Training')\n",
    "plt.plot(train_sizes, test_scores_mean, label = 'Test')\n",
    "plt.ylabel('f1', fontsize = 14)\n",
    "plt.xlabel('Training set size', fontsize = 14)\n",
    "plt.title('Learning', fontsize = 18, y = 1.03)\n",
    "plt.legend()\n",
    "plt.ylim(0.90,1)\n"
   ]
  },
  {
   "cell_type": "markdown",
   "metadata": {},
   "source": [
    "# Regularization"
   ]
  },
  {
   "cell_type": "code",
   "execution_count": 67,
   "metadata": {},
   "outputs": [],
   "source": [
    "#list(np.power(10.0, np.arange(-10, 10)))"
   ]
  },
  {
   "cell_type": "code",
   "execution_count": 68,
   "metadata": {},
   "outputs": [],
   "source": [
    "C_param_range = [0.05, 0.1, 1, 1.5, 2]"
   ]
  },
  {
   "cell_type": "code",
   "execution_count": 69,
   "metadata": {},
   "outputs": [],
   "source": [
    "lr = LogisticRegression(penalty='l2', random_state = 0)"
   ]
  },
  {
   "cell_type": "code",
   "execution_count": 70,
   "metadata": {},
   "outputs": [],
   "source": [
    "train_scores, test_scores = validation_curve(estimator=lr,\n",
    "                                             X=X_train_scale,\n",
    "                                             y=y_train,\n",
    "                                             param_name='C',\n",
    "                                             param_range=C_param_range,\n",
    "                                             cv=5,\n",
    "                                             scoring=\"roc_auc\",\n",
    "                                             n_jobs=-1)\n"
   ]
  },
  {
   "cell_type": "code",
   "execution_count": 71,
   "metadata": {},
   "outputs": [
    {
     "data": {
      "image/png": "[encoded data removed]",
      "text/plain": [
       "<Figure size 1440x720 with 1 Axes>"
      ]
     },
     "metadata": {},
     "output_type": "display_data"
    }
   ],
   "source": [
    "train_mean = np.mean(train_scores,axis=1)\n",
    "train_std = np.std(train_scores,axis=1)\n",
    "test_mean = np.mean(test_scores,axis=1)\n",
    "test_std = np.std(test_scores,axis=1)\n",
    "\n",
    "plt.figure(figsize=(20,10))\n",
    "plt.style.use('seaborn')\n",
    "plt.plot(C_param_range, train_mean, color='blue', label='Training')\n",
    "plt.plot(C_param_range, test_mean, color='green', label='Test')\n",
    "plt.ylabel('ROC', fontsize = 14)\n",
    "plt.xlabel('C Parameter', fontsize = 14)\n",
    "plt.title('Regularization', fontsize = 18, y = 1.03)\n",
    "plt.legend()\n",
    "#plt.ylim(0.8,1)\n",
    "plt.show()\n",
    "\n",
    "\n"
   ]
  },
  {
   "cell_type": "markdown",
   "metadata": {},
   "source": [
    "# 1st Conclusion\n",
    "\n",
    "Tasks done:\n",
    "1. Picked variables on Mutual Information\n",
    "2. Picked variables left with forward search algorithm\n",
    "3. Logistic Regression model\n",
    "4. Logistic Regression with regularization (validation curve)\n",
    "\n",
    "Conclusion:\n",
    "1. Picking up right variables increased accuracy, precision , and recall\n",
    "2. Learning Curve shows convergence\n",
    "3. Validation curve shows no variance bias"
   ]
  },
  {
   "cell_type": "markdown",
   "metadata": {},
   "source": [
    "# Random Forest"
   ]
  },
  {
   "cell_type": "code",
   "execution_count": 124,
   "metadata": {},
   "outputs": [],
   "source": [
    "clf=RandomForestClassifier(n_estimators=100)\n"
   ]
  },
  {
   "cell_type": "code",
   "execution_count": 125,
   "metadata": {},
   "outputs": [
    {
     "data": {
      "text/plain": [
       "RandomForestClassifier(bootstrap=True, class_weight=None, criterion='gini',\n",
       "                       max_depth=None, max_features='auto', max_leaf_nodes=None,\n",
       "                       min_impurity_decrease=0.0, min_impurity_split=None,\n",
       "                       min_samples_leaf=1, min_samples_split=2,\n",
       "                       min_weight_fraction_leaf=0.0, n_estimators=100,\n",
       "                       n_jobs=None, oob_score=False, random_state=None,\n",
       "                       verbose=0, warm_start=False)"
      ]
     },
     "execution_count": 125,
     "metadata": {},
     "output_type": "execute_result"
    }
   ],
   "source": [
    "clf.fit(X_train, y_train)\n"
   ]
  },
  {
   "cell_type": "code",
   "execution_count": 126,
   "metadata": {},
   "outputs": [],
   "source": [
    "predictions = clf.predict(X_test)"
   ]
  },
  {
   "cell_type": "code",
   "execution_count": 127,
   "metadata": {},
   "outputs": [
    {
     "data": {
      "text/plain": [
       "array([[312532,    719],\n",
       "       [  3316,  85724]])"
      ]
     },
     "execution_count": 127,
     "metadata": {},
     "output_type": "execute_result"
    }
   ],
   "source": [
    "metrics.confusion_matrix(y_test, predictions)\n"
   ]
  },
  {
   "cell_type": "markdown",
   "metadata": {},
   "source": [
    "### Consider\n",
    "\n",
    "n_estimators = number of trees in the foreset <br>\n",
    "max_features = max number of features considered for splitting a node<br>\n",
    "max_depth = max number of levels in each decision tree<br>\n",
    "min_samples_split = min number of data points placed in a node before the node is split<br>\n",
    "min_samples_leaf = min number of data points allowed in a leaf node<br>\n",
    "bootstrap = method for sampling data points (with or without replacement)<br>\n"
   ]
  },
  {
   "cell_type": "markdown",
   "metadata": {},
   "source": [
    "# Use Randomized Grid Search to find \"better\" parameters"
   ]
  },
  {
   "cell_type": "code",
   "execution_count": null,
   "metadata": {},
   "outputs": [],
   "source": []
  },
  {
   "cell_type": "code",
   "execution_count": 102,
   "metadata": {},
   "outputs": [],
   "source": [
    "X_train, X_test, y_train, y_test = train_test_split(X, y, test_size = 0.3)\n"
   ]
  },
  {
   "cell_type": "code",
   "execution_count": 103,
   "metadata": {},
   "outputs": [],
   "source": [
    "max_depth = [int(x) for x in np.linspace(10, 100, num = 10)]\n"
   ]
  },
  {
   "cell_type": "code",
   "execution_count": null,
   "metadata": {},
   "outputs": [],
   "source": []
  },
  {
   "cell_type": "code",
   "execution_count": 99,
   "metadata": {},
   "outputs": [],
   "source": [
    "# Number of trees in random forest\n",
    "n_estimators = [int(x) for x in np.linspace(start = 100, stop = 500, num = 5)]\n",
    "# Number of features to consider at every split\n",
    "max_features = ['sqrt', 'log2']\n",
    "# Maximum number of levels in tree\n",
    "max_depth = [int(x) for x in np.linspace(10, 50, num = 5)]\n",
    "max_depth.append(None)\n",
    "# Minimum number of samples required to split a node\n",
    "min_samples_split = [0.01, 0.05, 0.1, 0.15]\n",
    "# Minimum number of samples required at each leaf node\n",
    "min_samples_leaf = [0.0001, 0.001, 0.01, 0.004]\n",
    "# Method of selecting samples for training each tree\n",
    "bootstrap = [True, False]\n"
   ]
  },
  {
   "cell_type": "code",
   "execution_count": null,
   "metadata": {},
   "outputs": [],
   "source": []
  },
  {
   "cell_type": "code",
   "execution_count": 80,
   "metadata": {},
   "outputs": [],
   "source": [
    "# Create the random grid\n",
    "random_grid = {'n_estimators': n_estimators,\n",
    "               'max_features': max_features,\n",
    "               'max_depth': max_depth,\n",
    "               'min_samples_split': min_samples_split,\n",
    "               'min_samples_leaf': min_samples_leaf,\n",
    "               'bootstrap': bootstrap}\n"
   ]
  },
  {
   "cell_type": "code",
   "execution_count": 81,
   "metadata": {},
   "outputs": [],
   "source": [
    "rf = RandomForestClassifier(n_estimators=100)\n"
   ]
  },
  {
   "cell_type": "code",
   "execution_count": 82,
   "metadata": {},
   "outputs": [],
   "source": [
    "rf_random = RandomizedSearchCV(estimator=rf, param_distributions=random_grid,\n",
    "                               n_iter = 100, cv = 3, verbose=2, random_state=42, \n",
    "                               n_jobs=-1, return_train_score=True)\n"
   ]
  },
  {
   "cell_type": "code",
   "execution_count": 83,
   "metadata": {},
   "outputs": [
    {
     "data": {
      "text/plain": [
       "(268193, 10)"
      ]
     },
     "execution_count": 83,
     "metadata": {},
     "output_type": "execute_result"
    }
   ],
   "source": [
    "X_train.shape"
   ]
  },
  {
   "cell_type": "code",
   "execution_count": 84,
   "metadata": {},
   "outputs": [
    {
     "name": "stdout",
     "output_type": "stream",
     "text": [
      "Fitting 3 folds for each of 100 candidates, totalling 300 fits\n"
     ]
    },
    {
     "name": "stderr",
     "output_type": "stream",
     "text": [
      "[Parallel(n_jobs=-1)]: Using backend LokyBackend with 4 concurrent workers.\n",
      "[Parallel(n_jobs=-1)]: Done  33 tasks      | elapsed: 18.6min\n",
      "[Parallel(n_jobs=-1)]: Done 154 tasks      | elapsed: 59.5min\n",
      "[Parallel(n_jobs=-1)]: Done 300 out of 300 | elapsed: 108.6min finished\n"
     ]
    }
   ],
   "source": [
    "rf_random.fit(X_train, y_train);\n"
   ]
  },
  {
   "cell_type": "code",
   "execution_count": 117,
   "metadata": {},
   "outputs": [
    {
     "data": {
      "text/plain": [
       "{'n_estimators': 500,\n",
       " 'min_samples_split': 0.05,\n",
       " 'min_samples_leaf': 0.0001,\n",
       " 'max_features': 'sqrt',\n",
       " 'max_depth': 30,\n",
       " 'bootstrap': False}"
      ]
     },
     "execution_count": 117,
     "metadata": {},
     "output_type": "execute_result"
    }
   ],
   "source": [
    "rf_random.best_params_\n"
   ]
  },
  {
   "cell_type": "code",
   "execution_count": 119,
   "metadata": {},
   "outputs": [],
   "source": [
    "clf=RandomForestClassifier(n_estimators = 500,\n",
    "                           max_features = 'sqrt',\n",
    "                           max_depth = 50,\n",
    "                           min_samples_split = 0.05,\n",
    "                           min_samples_leaf = 0.0001,\n",
    "                           bootstrap= False)"
   ]
  },
  {
   "cell_type": "code",
   "execution_count": 120,
   "metadata": {},
   "outputs": [
    {
     "data": {
      "text/plain": [
       "RandomForestClassifier(bootstrap=False, class_weight=None, criterion='gini',\n",
       "                       max_depth=50, max_features='sqrt', max_leaf_nodes=None,\n",
       "                       min_impurity_decrease=0.0, min_impurity_split=None,\n",
       "                       min_samples_leaf=0.0001, min_samples_split=0.05,\n",
       "                       min_weight_fraction_leaf=0.0, n_estimators=500,\n",
       "                       n_jobs=None, oob_score=False, random_state=None,\n",
       "                       verbose=0, warm_start=False)"
      ]
     },
     "execution_count": 120,
     "metadata": {},
     "output_type": "execute_result"
    }
   ],
   "source": [
    "clf.fit(X_train, y_train)\n"
   ]
  },
  {
   "cell_type": "code",
   "execution_count": 121,
   "metadata": {},
   "outputs": [
    {
     "data": {
      "text/plain": [
       "array([[312802,    449],\n",
       "       [ 12738,  76302]])"
      ]
     },
     "execution_count": 121,
     "metadata": {},
     "output_type": "execute_result"
    }
   ],
   "source": [
    "predictions = clf.predict(X_test)\n",
    "metrics.confusion_matrix(y_test, predictions)\n"
   ]
  },
  {
   "cell_type": "code",
   "execution_count": null,
   "metadata": {},
   "outputs": [],
   "source": []
  },
  {
   "cell_type": "code",
   "execution_count": 122,
   "metadata": {
    "scrolled": false
   },
   "outputs": [
    {
     "data": {
      "text/plain": [
       "{'mean_fit_time': array([143.6804057 ,  35.53154055, 135.11643759,  34.05774935,\n",
       "        119.74488068, 244.44730425,  38.80984624,  95.74307545,\n",
       "        171.24260402, 177.89509964, 155.11033217,  24.62411141,\n",
       "        179.55977742,  31.18306629,  63.24896789,  43.43350005,\n",
       "         24.6427327 ,  69.24946801,  60.22133366,  27.80844164,\n",
       "         86.95446769, 137.98536936,  33.60348503,  22.76116705,\n",
       "        121.29584781,  57.17485126,  99.40283457,  18.06834594,\n",
       "         38.83820192,  20.34408665, 133.2412467 , 108.52446866,\n",
       "        189.71213531,  34.96707042,  17.47452497,  89.40092897,\n",
       "        110.78454526,  99.76296735, 193.30259975, 101.88359046,\n",
       "         19.51943469,  35.56148505,  19.23461715,  17.54882105,\n",
       "         78.95507662, 149.95794392,  63.07245731,  24.602434  ,\n",
       "         48.76467609, 114.09790667,  28.92836221,  52.0857145 ,\n",
       "         50.05628403, 109.39087296,  24.55427639, 148.46540197,\n",
       "         83.22449946,  24.69918474, 136.46065736,  99.49419157,\n",
       "         96.34631809, 122.27094007, 121.59343282,  50.79295079,\n",
       "         45.8017238 , 110.36086273,  27.58956369,  80.60596387,\n",
       "         60.41489299,  97.38632949, 107.56124902,  74.35755801,\n",
       "         88.48527233,  51.75433803,  54.07901208,  20.14699992,\n",
       "         82.20596536,  70.45867109,  71.40029327,  22.96649766,\n",
       "         96.29487952, 106.98891465,  35.5199941 ,  29.70089928,\n",
       "        109.54970694,  24.26428779,  16.87552063,  20.0478878 ,\n",
       "         26.66580462,  21.74115872, 100.1071806 , 168.27896436,\n",
       "        113.7318271 ,  39.80530572, 101.63545028,  39.05646936,\n",
       "         78.06772574, 113.30412006,  75.48323576,  16.99158541]),\n",
       " 'std_fit_time': array([1.09513175, 0.67602138, 2.35280059, 1.89451378, 1.77733867,\n",
       "        3.43088503, 0.51056279, 1.7318146 , 2.79441056, 2.08518116,\n",
       "        3.26301016, 0.26546313, 1.15534647, 0.74304365, 0.80266784,\n",
       "        1.08919045, 0.49683216, 0.85639321, 1.98075354, 1.1772872 ,\n",
       "        3.49781304, 1.93236107, 0.4837085 , 0.45388867, 0.51324864,\n",
       "        0.16618752, 0.45476413, 0.30145693, 0.37263427, 0.18100366,\n",
       "        1.7418895 , 0.21494759, 0.31680708, 0.50983693, 0.40482791,\n",
       "        0.28361886, 1.09256631, 0.95949622, 1.19434597, 2.08737659,\n",
       "        0.5269789 , 0.41715693, 0.10680486, 0.43757871, 0.44228497,\n",
       "        2.79928474, 0.93416454, 0.56985458, 0.60175327, 1.29598738,\n",
       "        0.24331289, 0.5097344 , 0.13156485, 1.93592634, 0.18476654,\n",
       "        0.63802475, 0.98312565, 0.26401011, 0.6403361 , 2.160452  ,\n",
       "        2.50975505, 0.86604096, 0.45237543, 1.10734456, 1.10045151,\n",
       "        0.43837426, 0.28864384, 0.71838593, 0.74683131, 0.49869614,\n",
       "        0.97633688, 0.65431121, 0.46146462, 0.74793705, 0.76589737,\n",
       "        0.18040723, 1.03204178, 1.04120712, 0.45168201, 0.46345111,\n",
       "        0.27325259, 0.58197846, 0.5227988 , 0.17160651, 1.30449483,\n",
       "        0.33852749, 0.45473631, 0.4739835 , 0.32472569, 0.28432039,\n",
       "        0.86392924, 2.27146005, 1.46367417, 0.7180549 , 0.7037131 ,\n",
       "        0.26312836, 0.547758  , 1.35692713, 6.98386257, 0.84419897]),\n",
       " 'mean_score_time': array([6.02138734, 1.91973281, 6.13476205, 1.81231308, 5.4400057 ,\n",
       "        8.13785299, 1.45233123, 3.95562172, 6.85741067, 7.94326663,\n",
       "        7.3787686 , 1.33527223, 6.26358382, 1.33129001, 3.04841232,\n",
       "        1.57284228, 1.37466129, 2.75754174, 2.96959861, 1.43117547,\n",
       "        3.01432204, 4.61964663, 1.16058167, 1.05929669, 4.76455331,\n",
       "        2.13032667, 4.7943391 , 0.94752161, 1.99381542, 1.01545938,\n",
       "        4.99550891, 4.11898454, 6.11879905, 1.89905262, 0.92014551,\n",
       "        3.16881474, 5.26372155, 4.99111239, 6.09610136, 4.81854852,\n",
       "        0.99521065, 1.18409697, 0.97733212, 0.95355622, 2.98965645,\n",
       "        5.28156503, 3.04191868, 1.11587723, 1.95431765, 5.25660229,\n",
       "        1.03444624, 2.76461283, 1.95449201, 4.11859735, 1.11592793,\n",
       "        5.14658769, 4.08393129, 1.00103633, 5.03249009, 4.36252228,\n",
       "        4.75831763, 4.86017052, 4.74397771, 2.7907691 , 2.01661905,\n",
       "        4.71460422, 1.03376436, 4.54977608, 2.13595533, 3.29684552,\n",
       "        4.03131652, 3.90926154, 3.27045083, 2.29177761, 2.75430226,\n",
       "        0.96382038, 3.07595801, 3.72990163, 3.13072562, 1.07648309,\n",
       "        4.75435011, 4.3600777 , 1.85798359, 1.06286057, 4.02209989,\n",
       "        0.97664436, 0.96117862, 1.00691072, 1.13427234, 1.03629438,\n",
       "        4.28347174, 5.60885668, 4.13779759, 2.02858901, 4.45479234,\n",
       "        1.95912401, 3.92642164, 3.6025087 , 2.40095758, 0.90521399]),\n",
       " 'std_score_time': array([0.12738727, 0.18448579, 0.30917185, 0.31262931, 0.01637772,\n",
       "        0.11309855, 0.00789375, 0.04545899, 0.06886854, 0.18412731,\n",
       "        0.10068928, 0.04018719, 0.08126351, 0.00638498, 0.04040766,\n",
       "        0.02222866, 0.01040814, 0.01505366, 0.06663423, 0.05161774,\n",
       "        0.01656709, 0.04634725, 0.02547219, 0.03102755, 0.04038553,\n",
       "        0.01752907, 0.08629143, 0.03104164, 0.05522436, 0.02560943,\n",
       "        0.04028322, 0.04012111, 0.18725192, 0.05340941, 0.02393008,\n",
       "        0.055535  , 0.11715307, 0.12375383, 0.0299892 , 0.09767087,\n",
       "        0.01111559, 0.02993332, 0.01051688, 0.02278181, 0.02318844,\n",
       "        0.06017481, 0.08471753, 0.01173492, 0.01589604, 0.04945939,\n",
       "        0.02721571, 0.07994162, 0.02427981, 0.06538174, 0.03042391,\n",
       "        0.07231216, 0.00504659, 0.00897182, 0.0765767 , 0.00096553,\n",
       "        0.11000301, 0.0034268 , 0.04819927, 0.00686948, 0.16271447,\n",
       "        0.07120901, 0.01720987, 0.03752112, 0.03354482, 0.01543196,\n",
       "        0.02526668, 0.03450668, 0.1423565 , 0.03612963, 0.07525836,\n",
       "        0.01540798, 0.02140389, 0.04916717, 0.07210468, 0.02439936,\n",
       "        0.06258081, 0.01180356, 0.06915095, 0.01460621, 0.04515685,\n",
       "        0.01224532, 0.02452221, 0.02660177, 0.01079944, 0.02036165,\n",
       "        0.07909267, 0.06476244, 0.01893196, 0.01554696, 0.02902688,\n",
       "        0.05556856, 0.02934017, 0.00508233, 0.5237807 , 0.08473381]),\n",
       " 'param_n_estimators': masked_array(data=[400, 100, 400, 100, 400, 500, 100, 300, 500, 500, 500,\n",
       "                    100, 400, 100, 200, 100, 100, 200, 200, 100, 300, 400,\n",
       "                    100, 100, 500, 200, 500, 100, 200, 100, 500, 400, 500,\n",
       "                    200, 100, 300, 500, 500, 500, 500, 100, 100, 100, 100,\n",
       "                    300, 500, 300, 100, 200, 500, 100, 300, 200, 400, 100,\n",
       "                    500, 400, 100, 500, 400, 500, 500, 500, 300, 200, 400,\n",
       "                    100, 500, 200, 300, 400, 400, 300, 200, 300, 100, 300,\n",
       "                    400, 300, 100, 500, 400, 200, 100, 400, 100, 100, 100,\n",
       "                    100, 100, 400, 500, 400, 200, 400, 200, 400, 300, 300,\n",
       "                    100],\n",
       "              mask=[False, False, False, False, False, False, False, False,\n",
       "                    False, False, False, False, False, False, False, False,\n",
       "                    False, False, False, False, False, False, False, False,\n",
       "                    False, False, False, False, False, False, False, False,\n",
       "                    False, False, False, False, False, False, False, False,\n",
       "                    False, False, False, False, False, False, False, False,\n",
       "                    False, False, False, False, False, False, False, False,\n",
       "                    False, False, False, False, False, False, False, False,\n",
       "                    False, False, False, False, False, False, False, False,\n",
       "                    False, False, False, False, False, False, False, False,\n",
       "                    False, False, False, False, False, False, False, False,\n",
       "                    False, False, False, False, False, False, False, False,\n",
       "                    False, False, False, False],\n",
       "        fill_value='?',\n",
       "             dtype=object),\n",
       " 'param_min_samples_split': masked_array(data=[0.05, 0.1, 0.1, 0.1, 0.15, 0.05, 0.15, 0.15, 0.15,\n",
       "                    0.05, 0.05, 0.15, 0.1, 0.15, 0.1, 0.05, 0.1, 0.1, 0.1,\n",
       "                    0.1, 0.1, 0.05, 0.05, 0.1, 0.1, 0.15, 0.1, 0.15, 0.1,\n",
       "                    0.05, 0.1, 0.05, 0.05, 0.1, 0.15, 0.1, 0.05, 0.05,\n",
       "                    0.05, 0.15, 0.15, 0.05, 0.15, 0.1, 0.1, 0.1, 0.1, 0.05,\n",
       "                    0.1, 0.1, 0.15, 0.15, 0.15, 0.05, 0.05, 0.1, 0.1, 0.15,\n",
       "                    0.15, 0.05, 0.1, 0.1, 0.15, 0.15, 0.15, 0.05, 0.15,\n",
       "                    0.15, 0.05, 0.1, 0.15, 0.1, 0.1, 0.05, 0.15, 0.15,\n",
       "                    0.05, 0.15, 0.1, 0.05, 0.15, 0.05, 0.15, 0.1, 0.15,\n",
       "                    0.1, 0.15, 0.15, 0.05, 0.1, 0.05, 0.05, 0.15, 0.05,\n",
       "                    0.05, 0.1, 0.1, 0.05, 0.15, 0.15],\n",
       "              mask=[False, False, False, False, False, False, False, False,\n",
       "                    False, False, False, False, False, False, False, False,\n",
       "                    False, False, False, False, False, False, False, False,\n",
       "                    False, False, False, False, False, False, False, False,\n",
       "                    False, False, False, False, False, False, False, False,\n",
       "                    False, False, False, False, False, False, False, False,\n",
       "                    False, False, False, False, False, False, False, False,\n",
       "                    False, False, False, False, False, False, False, False,\n",
       "                    False, False, False, False, False, False, False, False,\n",
       "                    False, False, False, False, False, False, False, False,\n",
       "                    False, False, False, False, False, False, False, False,\n",
       "                    False, False, False, False, False, False, False, False,\n",
       "                    False, False, False, False],\n",
       "        fill_value='?',\n",
       "             dtype=object),\n",
       " 'param_min_samples_leaf': masked_array(data=[0.004, 0.001, 0.001, 0.001, 0.0001, 0.001, 0.001, 0.01,\n",
       "                    0.004, 0.001, 0.004, 0.004, 0.0001, 0.01, 0.0001,\n",
       "                    0.004, 0.01, 0.01, 0.001, 0.004, 0.004, 0.001, 0.001,\n",
       "                    0.0001, 0.01, 0.0001, 0.004, 0.004, 0.004, 0.01, 0.004,\n",
       "                    0.01, 0.0001, 0.01, 0.004, 0.001, 0.004, 0.01, 0.0001,\n",
       "                    0.0001, 0.001, 0.001, 0.001, 0.01, 0.004, 0.001, 0.001,\n",
       "                    0.001, 0.01, 0.0001, 0.0001, 0.004, 0.004, 0.01, 0.001,\n",
       "                    0.001, 0.001, 0.004, 0.001, 0.001, 0.004, 0.01, 0.004,\n",
       "                    0.004, 0.01, 0.0001, 0.001, 0.01, 0.004, 0.0001, 0.001,\n",
       "                    0.004, 0.001, 0.0001, 0.004, 0.001, 0.01, 0.004,\n",
       "                    0.0001, 0.004, 0.001, 0.0001, 0.004, 0.001, 0.001,\n",
       "                    0.01, 0.01, 0.001, 0.0001, 0.001, 0.001, 0.001, 0.0001,\n",
       "                    0.01, 0.001, 0.004, 0.004, 0.0001, 0.001, 0.004],\n",
       "              mask=[False, False, False, False, False, False, False, False,\n",
       "                    False, False, False, False, False, False, False, False,\n",
       "                    False, False, False, False, False, False, False, False,\n",
       "                    False, False, False, False, False, False, False, False,\n",
       "                    False, False, False, False, False, False, False, False,\n",
       "                    False, False, False, False, False, False, False, False,\n",
       "                    False, False, False, False, False, False, False, False,\n",
       "                    False, False, False, False, False, False, False, False,\n",
       "                    False, False, False, False, False, False, False, False,\n",
       "                    False, False, False, False, False, False, False, False,\n",
       "                    False, False, False, False, False, False, False, False,\n",
       "                    False, False, False, False, False, False, False, False,\n",
       "                    False, False, False, False],\n",
       "        fill_value='?',\n",
       "             dtype=object),\n",
       " 'param_max_features': masked_array(data=['sqrt', 'sqrt', 'log2', 'log2', 'sqrt', 'sqrt', 'log2',\n",
       "                    'log2', 'log2', 'sqrt', 'log2', 'log2', 'sqrt', 'log2',\n",
       "                    'sqrt', 'log2', 'log2', 'sqrt', 'log2', 'log2', 'log2',\n",
       "                    'log2', 'log2', 'sqrt', 'log2', 'sqrt', 'sqrt', 'sqrt',\n",
       "                    'sqrt', 'sqrt', 'sqrt', 'sqrt', 'sqrt', 'sqrt', 'sqrt',\n",
       "                    'sqrt', 'sqrt', 'sqrt', 'log2', 'sqrt', 'log2', 'sqrt',\n",
       "                    'log2', 'sqrt', 'sqrt', 'sqrt', 'log2', 'sqrt', 'log2',\n",
       "                    'log2', 'sqrt', 'log2', 'sqrt', 'log2', 'log2', 'log2',\n",
       "                    'log2', 'log2', 'sqrt', 'sqrt', 'sqrt', 'log2', 'sqrt',\n",
       "                    'log2', 'log2', 'log2', 'log2', 'sqrt', 'log2', 'sqrt',\n",
       "                    'log2', 'log2', 'log2', 'log2', 'sqrt', 'sqrt', 'sqrt',\n",
       "                    'log2', 'sqrt', 'log2', 'sqrt', 'log2', 'log2', 'sqrt',\n",
       "                    'log2', 'sqrt', 'log2', 'log2', 'sqrt', 'log2', 'log2',\n",
       "                    'log2', 'log2', 'log2', 'log2', 'sqrt', 'sqrt', 'sqrt',\n",
       "                    'log2', 'sqrt'],\n",
       "              mask=[False, False, False, False, False, False, False, False,\n",
       "                    False, False, False, False, False, False, False, False,\n",
       "                    False, False, False, False, False, False, False, False,\n",
       "                    False, False, False, False, False, False, False, False,\n",
       "                    False, False, False, False, False, False, False, False,\n",
       "                    False, False, False, False, False, False, False, False,\n",
       "                    False, False, False, False, False, False, False, False,\n",
       "                    False, False, False, False, False, False, False, False,\n",
       "                    False, False, False, False, False, False, False, False,\n",
       "                    False, False, False, False, False, False, False, False,\n",
       "                    False, False, False, False, False, False, False, False,\n",
       "                    False, False, False, False, False, False, False, False,\n",
       "                    False, False, False, False],\n",
       "        fill_value='?',\n",
       "             dtype=object),\n",
       " 'param_max_depth': masked_array(data=[20, None, 50, 10, None, 30, None, None, 40, 30, 50, 10,\n",
       "                    50, 20, 20, 50, None, 10, 30, 30, 40, 30, 40, None, 10,\n",
       "                    10, None, 40, 10, 30, 20, 40, 30, None, 50, 20, 10, 30,\n",
       "                    40, 10, 30, 40, 40, 30, 10, None, 10, 30, None, 30, 40,\n",
       "                    50, None, 40, None, 20, 40, 30, 30, 20, 50, None, None,\n",
       "                    20, None, 20, 50, 10, 20, 40, 10, 30, 10, 10, 30, 40,\n",
       "                    50, 40, None, 50, 40, 10, 50, 40, 50, 50, 20, 10, 10,\n",
       "                    40, 30, 30, 30, 50, 40, 40, 40, 50, 30, 20],\n",
       "              mask=[False, False, False, False, False, False, False, False,\n",
       "                    False, False, False, False, False, False, False, False,\n",
       "                    False, False, False, False, False, False, False, False,\n",
       "                    False, False, False, False, False, False, False, False,\n",
       "                    False, False, False, False, False, False, False, False,\n",
       "                    False, False, False, False, False, False, False, False,\n",
       "                    False, False, False, False, False, False, False, False,\n",
       "                    False, False, False, False, False, False, False, False,\n",
       "                    False, False, False, False, False, False, False, False,\n",
       "                    False, False, False, False, False, False, False, False,\n",
       "                    False, False, False, False, False, False, False, False,\n",
       "                    False, False, False, False, False, False, False, False,\n",
       "                    False, False, False, False],\n",
       "        fill_value='?',\n",
       "             dtype=object),\n",
       " 'param_bootstrap': masked_array(data=[True, True, True, True, True, False, False, False,\n",
       "                    False, True, True, True, False, False, True, False,\n",
       "                    True, False, True, True, False, False, False, True,\n",
       "                    False, False, True, True, True, True, False, False,\n",
       "                    False, True, True, False, True, True, False, True,\n",
       "                    True, False, True, True, False, False, True, True,\n",
       "                    False, True, False, True, False, False, True, False,\n",
       "                    True, False, False, True, True, False, False, True,\n",
       "                    False, True, False, True, False, False, False, True,\n",
       "                    False, True, True, True, False, True, True, True, True,\n",
       "                    True, True, False, False, False, True, True, True,\n",
       "                    True, True, False, False, True, True, True, True,\n",
       "                    False, False, True],\n",
       "              mask=[False, False, False, False, False, False, False, False,\n",
       "                    False, False, False, False, False, False, False, False,\n",
       "                    False, False, False, False, False, False, False, False,\n",
       "                    False, False, False, False, False, False, False, False,\n",
       "                    False, False, False, False, False, False, False, False,\n",
       "                    False, False, False, False, False, False, False, False,\n",
       "                    False, False, False, False, False, False, False, False,\n",
       "                    False, False, False, False, False, False, False, False,\n",
       "                    False, False, False, False, False, False, False, False,\n",
       "                    False, False, False, False, False, False, False, False,\n",
       "                    False, False, False, False, False, False, False, False,\n",
       "                    False, False, False, False, False, False, False, False,\n",
       "                    False, False, False, False],\n",
       "        fill_value='?',\n",
       "             dtype=object),\n",
       " 'params': [{'n_estimators': 400,\n",
       "   'min_samples_split': 0.05,\n",
       "   'min_samples_leaf': 0.004,\n",
       "   'max_features': 'sqrt',\n",
       "   'max_depth': 20,\n",
       "   'bootstrap': True},\n",
       "  {'n_estimators': 100,\n",
       "   'min_samples_split': 0.1,\n",
       "   'min_samples_leaf': 0.001,\n",
       "   'max_features': 'sqrt',\n",
       "   'max_depth': None,\n",
       "   'bootstrap': True},\n",
       "  {'n_estimators': 400,\n",
       "   'min_samples_split': 0.1,\n",
       "   'min_samples_leaf': 0.001,\n",
       "   'max_features': 'log2',\n",
       "   'max_depth': 50,\n",
       "   'bootstrap': True},\n",
       "  {'n_estimators': 100,\n",
       "   'min_samples_split': 0.1,\n",
       "   'min_samples_leaf': 0.001,\n",
       "   'max_features': 'log2',\n",
       "   'max_depth': 10,\n",
       "   'bootstrap': True},\n",
       "  {'n_estimators': 400,\n",
       "   'min_samples_split': 0.15,\n",
       "   'min_samples_leaf': 0.0001,\n",
       "   'max_features': 'sqrt',\n",
       "   'max_depth': None,\n",
       "   'bootstrap': True},\n",
       "  {'n_estimators': 500,\n",
       "   'min_samples_split': 0.05,\n",
       "   'min_samples_leaf': 0.001,\n",
       "   'max_features': 'sqrt',\n",
       "   'max_depth': 30,\n",
       "   'bootstrap': False},\n",
       "  {'n_estimators': 100,\n",
       "   'min_samples_split': 0.15,\n",
       "   'min_samples_leaf': 0.001,\n",
       "   'max_features': 'log2',\n",
       "   'max_depth': None,\n",
       "   'bootstrap': False},\n",
       "  {'n_estimators': 300,\n",
       "   'min_samples_split': 0.15,\n",
       "   'min_samples_leaf': 0.01,\n",
       "   'max_features': 'log2',\n",
       "   'max_depth': None,\n",
       "   'bootstrap': False},\n",
       "  {'n_estimators': 500,\n",
       "   'min_samples_split': 0.15,\n",
       "   'min_samples_leaf': 0.004,\n",
       "   'max_features': 'log2',\n",
       "   'max_depth': 40,\n",
       "   'bootstrap': False},\n",
       "  {'n_estimators': 500,\n",
       "   'min_samples_split': 0.05,\n",
       "   'min_samples_leaf': 0.001,\n",
       "   'max_features': 'sqrt',\n",
       "   'max_depth': 30,\n",
       "   'bootstrap': True},\n",
       "  {'n_estimators': 500,\n",
       "   'min_samples_split': 0.05,\n",
       "   'min_samples_leaf': 0.004,\n",
       "   'max_features': 'log2',\n",
       "   'max_depth': 50,\n",
       "   'bootstrap': True},\n",
       "  {'n_estimators': 100,\n",
       "   'min_samples_split': 0.15,\n",
       "   'min_samples_leaf': 0.004,\n",
       "   'max_features': 'log2',\n",
       "   'max_depth': 10,\n",
       "   'bootstrap': True},\n",
       "  {'n_estimators': 400,\n",
       "   'min_samples_split': 0.1,\n",
       "   'min_samples_leaf': 0.0001,\n",
       "   'max_features': 'sqrt',\n",
       "   'max_depth': 50,\n",
       "   'bootstrap': False},\n",
       "  {'n_estimators': 100,\n",
       "   'min_samples_split': 0.15,\n",
       "   'min_samples_leaf': 0.01,\n",
       "   'max_features': 'log2',\n",
       "   'max_depth': 20,\n",
       "   'bootstrap': False},\n",
       "  {'n_estimators': 200,\n",
       "   'min_samples_split': 0.1,\n",
       "   'min_samples_leaf': 0.0001,\n",
       "   'max_features': 'sqrt',\n",
       "   'max_depth': 20,\n",
       "   'bootstrap': True},\n",
       "  {'n_estimators': 100,\n",
       "   'min_samples_split': 0.05,\n",
       "   'min_samples_leaf': 0.004,\n",
       "   'max_features': 'log2',\n",
       "   'max_depth': 50,\n",
       "   'bootstrap': False},\n",
       "  {'n_estimators': 100,\n",
       "   'min_samples_split': 0.1,\n",
       "   'min_samples_leaf': 0.01,\n",
       "   'max_features': 'log2',\n",
       "   'max_depth': None,\n",
       "   'bootstrap': True},\n",
       "  {'n_estimators': 200,\n",
       "   'min_samples_split': 0.1,\n",
       "   'min_samples_leaf': 0.01,\n",
       "   'max_features': 'sqrt',\n",
       "   'max_depth': 10,\n",
       "   'bootstrap': False},\n",
       "  {'n_estimators': 200,\n",
       "   'min_samples_split': 0.1,\n",
       "   'min_samples_leaf': 0.001,\n",
       "   'max_features': 'log2',\n",
       "   'max_depth': 30,\n",
       "   'bootstrap': True},\n",
       "  {'n_estimators': 100,\n",
       "   'min_samples_split': 0.1,\n",
       "   'min_samples_leaf': 0.004,\n",
       "   'max_features': 'log2',\n",
       "   'max_depth': 30,\n",
       "   'bootstrap': True},\n",
       "  {'n_estimators': 300,\n",
       "   'min_samples_split': 0.1,\n",
       "   'min_samples_leaf': 0.004,\n",
       "   'max_features': 'log2',\n",
       "   'max_depth': 40,\n",
       "   'bootstrap': False},\n",
       "  {'n_estimators': 400,\n",
       "   'min_samples_split': 0.05,\n",
       "   'min_samples_leaf': 0.001,\n",
       "   'max_features': 'log2',\n",
       "   'max_depth': 30,\n",
       "   'bootstrap': False},\n",
       "  {'n_estimators': 100,\n",
       "   'min_samples_split': 0.05,\n",
       "   'min_samples_leaf': 0.001,\n",
       "   'max_features': 'log2',\n",
       "   'max_depth': 40,\n",
       "   'bootstrap': False},\n",
       "  {'n_estimators': 100,\n",
       "   'min_samples_split': 0.1,\n",
       "   'min_samples_leaf': 0.0001,\n",
       "   'max_features': 'sqrt',\n",
       "   'max_depth': None,\n",
       "   'bootstrap': True},\n",
       "  {'n_estimators': 500,\n",
       "   'min_samples_split': 0.1,\n",
       "   'min_samples_leaf': 0.01,\n",
       "   'max_features': 'log2',\n",
       "   'max_depth': 10,\n",
       "   'bootstrap': False},\n",
       "  {'n_estimators': 200,\n",
       "   'min_samples_split': 0.15,\n",
       "   'min_samples_leaf': 0.0001,\n",
       "   'max_features': 'sqrt',\n",
       "   'max_depth': 10,\n",
       "   'bootstrap': False},\n",
       "  {'n_estimators': 500,\n",
       "   'min_samples_split': 0.1,\n",
       "   'min_samples_leaf': 0.004,\n",
       "   'max_features': 'sqrt',\n",
       "   'max_depth': None,\n",
       "   'bootstrap': True},\n",
       "  {'n_estimators': 100,\n",
       "   'min_samples_split': 0.15,\n",
       "   'min_samples_leaf': 0.004,\n",
       "   'max_features': 'sqrt',\n",
       "   'max_depth': 40,\n",
       "   'bootstrap': True},\n",
       "  {'n_estimators': 200,\n",
       "   'min_samples_split': 0.1,\n",
       "   'min_samples_leaf': 0.004,\n",
       "   'max_features': 'sqrt',\n",
       "   'max_depth': 10,\n",
       "   'bootstrap': True},\n",
       "  {'n_estimators': 100,\n",
       "   'min_samples_split': 0.05,\n",
       "   'min_samples_leaf': 0.01,\n",
       "   'max_features': 'sqrt',\n",
       "   'max_depth': 30,\n",
       "   'bootstrap': True},\n",
       "  {'n_estimators': 500,\n",
       "   'min_samples_split': 0.1,\n",
       "   'min_samples_leaf': 0.004,\n",
       "   'max_features': 'sqrt',\n",
       "   'max_depth': 20,\n",
       "   'bootstrap': False},\n",
       "  {'n_estimators': 400,\n",
       "   'min_samples_split': 0.05,\n",
       "   'min_samples_leaf': 0.01,\n",
       "   'max_features': 'sqrt',\n",
       "   'max_depth': 40,\n",
       "   'bootstrap': False},\n",
       "  {'n_estimators': 500,\n",
       "   'min_samples_split': 0.05,\n",
       "   'min_samples_leaf': 0.0001,\n",
       "   'max_features': 'sqrt',\n",
       "   'max_depth': 30,\n",
       "   'bootstrap': False},\n",
       "  {'n_estimators': 200,\n",
       "   'min_samples_split': 0.1,\n",
       "   'min_samples_leaf': 0.01,\n",
       "   'max_features': 'sqrt',\n",
       "   'max_depth': None,\n",
       "   'bootstrap': True},\n",
       "  {'n_estimators': 100,\n",
       "   'min_samples_split': 0.15,\n",
       "   'min_samples_leaf': 0.004,\n",
       "   'max_features': 'sqrt',\n",
       "   'max_depth': 50,\n",
       "   'bootstrap': True},\n",
       "  {'n_estimators': 300,\n",
       "   'min_samples_split': 0.1,\n",
       "   'min_samples_leaf': 0.001,\n",
       "   'max_features': 'sqrt',\n",
       "   'max_depth': 20,\n",
       "   'bootstrap': False},\n",
       "  {'n_estimators': 500,\n",
       "   'min_samples_split': 0.05,\n",
       "   'min_samples_leaf': 0.004,\n",
       "   'max_features': 'sqrt',\n",
       "   'max_depth': 10,\n",
       "   'bootstrap': True},\n",
       "  {'n_estimators': 500,\n",
       "   'min_samples_split': 0.05,\n",
       "   'min_samples_leaf': 0.01,\n",
       "   'max_features': 'sqrt',\n",
       "   'max_depth': 30,\n",
       "   'bootstrap': True},\n",
       "  {'n_estimators': 500,\n",
       "   'min_samples_split': 0.05,\n",
       "   'min_samples_leaf': 0.0001,\n",
       "   'max_features': 'log2',\n",
       "   'max_depth': 40,\n",
       "   'bootstrap': False},\n",
       "  {'n_estimators': 500,\n",
       "   'min_samples_split': 0.15,\n",
       "   'min_samples_leaf': 0.0001,\n",
       "   'max_features': 'sqrt',\n",
       "   'max_depth': 10,\n",
       "   'bootstrap': True},\n",
       "  {'n_estimators': 100,\n",
       "   'min_samples_split': 0.15,\n",
       "   'min_samples_leaf': 0.001,\n",
       "   'max_features': 'log2',\n",
       "   'max_depth': 30,\n",
       "   'bootstrap': True},\n",
       "  {'n_estimators': 100,\n",
       "   'min_samples_split': 0.05,\n",
       "   'min_samples_leaf': 0.001,\n",
       "   'max_features': 'sqrt',\n",
       "   'max_depth': 40,\n",
       "   'bootstrap': False},\n",
       "  {'n_estimators': 100,\n",
       "   'min_samples_split': 0.15,\n",
       "   'min_samples_leaf': 0.001,\n",
       "   'max_features': 'log2',\n",
       "   'max_depth': 40,\n",
       "   'bootstrap': True},\n",
       "  {'n_estimators': 100,\n",
       "   'min_samples_split': 0.1,\n",
       "   'min_samples_leaf': 0.01,\n",
       "   'max_features': 'sqrt',\n",
       "   'max_depth': 30,\n",
       "   'bootstrap': True},\n",
       "  {'n_estimators': 300,\n",
       "   'min_samples_split': 0.1,\n",
       "   'min_samples_leaf': 0.004,\n",
       "   'max_features': 'sqrt',\n",
       "   'max_depth': 10,\n",
       "   'bootstrap': False},\n",
       "  {'n_estimators': 500,\n",
       "   'min_samples_split': 0.1,\n",
       "   'min_samples_leaf': 0.001,\n",
       "   'max_features': 'sqrt',\n",
       "   'max_depth': None,\n",
       "   'bootstrap': False},\n",
       "  {'n_estimators': 300,\n",
       "   'min_samples_split': 0.1,\n",
       "   'min_samples_leaf': 0.001,\n",
       "   'max_features': 'log2',\n",
       "   'max_depth': 10,\n",
       "   'bootstrap': True},\n",
       "  {'n_estimators': 100,\n",
       "   'min_samples_split': 0.05,\n",
       "   'min_samples_leaf': 0.001,\n",
       "   'max_features': 'sqrt',\n",
       "   'max_depth': 30,\n",
       "   'bootstrap': True},\n",
       "  {'n_estimators': 200,\n",
       "   'min_samples_split': 0.1,\n",
       "   'min_samples_leaf': 0.01,\n",
       "   'max_features': 'log2',\n",
       "   'max_depth': None,\n",
       "   'bootstrap': False},\n",
       "  {'n_estimators': 500,\n",
       "   'min_samples_split': 0.1,\n",
       "   'min_samples_leaf': 0.0001,\n",
       "   'max_features': 'log2',\n",
       "   'max_depth': 30,\n",
       "   'bootstrap': True},\n",
       "  {'n_estimators': 100,\n",
       "   'min_samples_split': 0.15,\n",
       "   'min_samples_leaf': 0.0001,\n",
       "   'max_features': 'sqrt',\n",
       "   'max_depth': 40,\n",
       "   'bootstrap': False},\n",
       "  {'n_estimators': 300,\n",
       "   'min_samples_split': 0.15,\n",
       "   'min_samples_leaf': 0.004,\n",
       "   'max_features': 'log2',\n",
       "   'max_depth': 50,\n",
       "   'bootstrap': True},\n",
       "  {'n_estimators': 200,\n",
       "   'min_samples_split': 0.15,\n",
       "   'min_samples_leaf': 0.004,\n",
       "   'max_features': 'sqrt',\n",
       "   'max_depth': None,\n",
       "   'bootstrap': False},\n",
       "  {'n_estimators': 400,\n",
       "   'min_samples_split': 0.05,\n",
       "   'min_samples_leaf': 0.01,\n",
       "   'max_features': 'log2',\n",
       "   'max_depth': 40,\n",
       "   'bootstrap': False},\n",
       "  {'n_estimators': 100,\n",
       "   'min_samples_split': 0.05,\n",
       "   'min_samples_leaf': 0.001,\n",
       "   'max_features': 'log2',\n",
       "   'max_depth': None,\n",
       "   'bootstrap': True},\n",
       "  {'n_estimators': 500,\n",
       "   'min_samples_split': 0.1,\n",
       "   'min_samples_leaf': 0.001,\n",
       "   'max_features': 'log2',\n",
       "   'max_depth': 20,\n",
       "   'bootstrap': False},\n",
       "  {'n_estimators': 400,\n",
       "   'min_samples_split': 0.1,\n",
       "   'min_samples_leaf': 0.001,\n",
       "   'max_features': 'log2',\n",
       "   'max_depth': 40,\n",
       "   'bootstrap': True},\n",
       "  {'n_estimators': 100,\n",
       "   'min_samples_split': 0.15,\n",
       "   'min_samples_leaf': 0.004,\n",
       "   'max_features': 'log2',\n",
       "   'max_depth': 30,\n",
       "   'bootstrap': False},\n",
       "  {'n_estimators': 500,\n",
       "   'min_samples_split': 0.15,\n",
       "   'min_samples_leaf': 0.001,\n",
       "   'max_features': 'sqrt',\n",
       "   'max_depth': 30,\n",
       "   'bootstrap': False},\n",
       "  {'n_estimators': 400,\n",
       "   'min_samples_split': 0.05,\n",
       "   'min_samples_leaf': 0.001,\n",
       "   'max_features': 'sqrt',\n",
       "   'max_depth': 20,\n",
       "   'bootstrap': True},\n",
       "  {'n_estimators': 500,\n",
       "   'min_samples_split': 0.1,\n",
       "   'min_samples_leaf': 0.004,\n",
       "   'max_features': 'sqrt',\n",
       "   'max_depth': 50,\n",
       "   'bootstrap': True},\n",
       "  {'n_estimators': 500,\n",
       "   'min_samples_split': 0.1,\n",
       "   'min_samples_leaf': 0.01,\n",
       "   'max_features': 'log2',\n",
       "   'max_depth': None,\n",
       "   'bootstrap': False},\n",
       "  {'n_estimators': 500,\n",
       "   'min_samples_split': 0.15,\n",
       "   'min_samples_leaf': 0.004,\n",
       "   'max_features': 'sqrt',\n",
       "   'max_depth': None,\n",
       "   'bootstrap': False},\n",
       "  {'n_estimators': 300,\n",
       "   'min_samples_split': 0.15,\n",
       "   'min_samples_leaf': 0.004,\n",
       "   'max_features': 'log2',\n",
       "   'max_depth': 20,\n",
       "   'bootstrap': True},\n",
       "  {'n_estimators': 200,\n",
       "   'min_samples_split': 0.15,\n",
       "   'min_samples_leaf': 0.01,\n",
       "   'max_features': 'log2',\n",
       "   'max_depth': None,\n",
       "   'bootstrap': False},\n",
       "  {'n_estimators': 400,\n",
       "   'min_samples_split': 0.05,\n",
       "   'min_samples_leaf': 0.0001,\n",
       "   'max_features': 'log2',\n",
       "   'max_depth': 20,\n",
       "   'bootstrap': True},\n",
       "  {'n_estimators': 100,\n",
       "   'min_samples_split': 0.15,\n",
       "   'min_samples_leaf': 0.001,\n",
       "   'max_features': 'log2',\n",
       "   'max_depth': 50,\n",
       "   'bootstrap': False},\n",
       "  {'n_estimators': 500,\n",
       "   'min_samples_split': 0.15,\n",
       "   'min_samples_leaf': 0.01,\n",
       "   'max_features': 'sqrt',\n",
       "   'max_depth': 10,\n",
       "   'bootstrap': True},\n",
       "  {'n_estimators': 200,\n",
       "   'min_samples_split': 0.05,\n",
       "   'min_samples_leaf': 0.004,\n",
       "   'max_features': 'log2',\n",
       "   'max_depth': 20,\n",
       "   'bootstrap': False},\n",
       "  {'n_estimators': 300,\n",
       "   'min_samples_split': 0.1,\n",
       "   'min_samples_leaf': 0.0001,\n",
       "   'max_features': 'sqrt',\n",
       "   'max_depth': 40,\n",
       "   'bootstrap': False},\n",
       "  {'n_estimators': 400,\n",
       "   'min_samples_split': 0.15,\n",
       "   'min_samples_leaf': 0.001,\n",
       "   'max_features': 'log2',\n",
       "   'max_depth': 10,\n",
       "   'bootstrap': False},\n",
       "  {'n_estimators': 400,\n",
       "   'min_samples_split': 0.1,\n",
       "   'min_samples_leaf': 0.004,\n",
       "   'max_features': 'log2',\n",
       "   'max_depth': 30,\n",
       "   'bootstrap': True},\n",
       "  {'n_estimators': 300,\n",
       "   'min_samples_split': 0.1,\n",
       "   'min_samples_leaf': 0.001,\n",
       "   'max_features': 'log2',\n",
       "   'max_depth': 10,\n",
       "   'bootstrap': False},\n",
       "  {'n_estimators': 200,\n",
       "   'min_samples_split': 0.05,\n",
       "   'min_samples_leaf': 0.0001,\n",
       "   'max_features': 'log2',\n",
       "   'max_depth': 10,\n",
       "   'bootstrap': True},\n",
       "  {'n_estimators': 300,\n",
       "   'min_samples_split': 0.15,\n",
       "   'min_samples_leaf': 0.004,\n",
       "   'max_features': 'sqrt',\n",
       "   'max_depth': 30,\n",
       "   'bootstrap': True},\n",
       "  {'n_estimators': 100,\n",
       "   'min_samples_split': 0.15,\n",
       "   'min_samples_leaf': 0.001,\n",
       "   'max_features': 'sqrt',\n",
       "   'max_depth': 40,\n",
       "   'bootstrap': True},\n",
       "  {'n_estimators': 300,\n",
       "   'min_samples_split': 0.05,\n",
       "   'min_samples_leaf': 0.01,\n",
       "   'max_features': 'sqrt',\n",
       "   'max_depth': 50,\n",
       "   'bootstrap': False},\n",
       "  {'n_estimators': 400,\n",
       "   'min_samples_split': 0.15,\n",
       "   'min_samples_leaf': 0.004,\n",
       "   'max_features': 'log2',\n",
       "   'max_depth': 40,\n",
       "   'bootstrap': True},\n",
       "  {'n_estimators': 300,\n",
       "   'min_samples_split': 0.1,\n",
       "   'min_samples_leaf': 0.0001,\n",
       "   'max_features': 'sqrt',\n",
       "   'max_depth': None,\n",
       "   'bootstrap': True},\n",
       "  {'n_estimators': 100,\n",
       "   'min_samples_split': 0.05,\n",
       "   'min_samples_leaf': 0.004,\n",
       "   'max_features': 'log2',\n",
       "   'max_depth': 50,\n",
       "   'bootstrap': True},\n",
       "  {'n_estimators': 500,\n",
       "   'min_samples_split': 0.15,\n",
       "   'min_samples_leaf': 0.001,\n",
       "   'max_features': 'sqrt',\n",
       "   'max_depth': 40,\n",
       "   'bootstrap': True},\n",
       "  {'n_estimators': 400,\n",
       "   'min_samples_split': 0.05,\n",
       "   'min_samples_leaf': 0.0001,\n",
       "   'max_features': 'log2',\n",
       "   'max_depth': 10,\n",
       "   'bootstrap': True},\n",
       "  {'n_estimators': 200,\n",
       "   'min_samples_split': 0.15,\n",
       "   'min_samples_leaf': 0.004,\n",
       "   'max_features': 'log2',\n",
       "   'max_depth': 50,\n",
       "   'bootstrap': True},\n",
       "  {'n_estimators': 100,\n",
       "   'min_samples_split': 0.1,\n",
       "   'min_samples_leaf': 0.001,\n",
       "   'max_features': 'sqrt',\n",
       "   'max_depth': 40,\n",
       "   'bootstrap': False},\n",
       "  {'n_estimators': 400,\n",
       "   'min_samples_split': 0.15,\n",
       "   'min_samples_leaf': 0.001,\n",
       "   'max_features': 'log2',\n",
       "   'max_depth': 50,\n",
       "   'bootstrap': False},\n",
       "  {'n_estimators': 100,\n",
       "   'min_samples_split': 0.1,\n",
       "   'min_samples_leaf': 0.01,\n",
       "   'max_features': 'sqrt',\n",
       "   'max_depth': 50,\n",
       "   'bootstrap': False},\n",
       "  {'n_estimators': 100,\n",
       "   'min_samples_split': 0.15,\n",
       "   'min_samples_leaf': 0.01,\n",
       "   'max_features': 'log2',\n",
       "   'max_depth': 20,\n",
       "   'bootstrap': True},\n",
       "  {'n_estimators': 100,\n",
       "   'min_samples_split': 0.15,\n",
       "   'min_samples_leaf': 0.001,\n",
       "   'max_features': 'log2',\n",
       "   'max_depth': 10,\n",
       "   'bootstrap': True},\n",
       "  {'n_estimators': 100,\n",
       "   'min_samples_split': 0.05,\n",
       "   'min_samples_leaf': 0.0001,\n",
       "   'max_features': 'sqrt',\n",
       "   'max_depth': 10,\n",
       "   'bootstrap': True},\n",
       "  {'n_estimators': 100,\n",
       "   'min_samples_split': 0.1,\n",
       "   'min_samples_leaf': 0.001,\n",
       "   'max_features': 'log2',\n",
       "   'max_depth': 40,\n",
       "   'bootstrap': True},\n",
       "  {'n_estimators': 400,\n",
       "   'min_samples_split': 0.05,\n",
       "   'min_samples_leaf': 0.001,\n",
       "   'max_features': 'log2',\n",
       "   'max_depth': 30,\n",
       "   'bootstrap': True},\n",
       "  {'n_estimators': 500,\n",
       "   'min_samples_split': 0.05,\n",
       "   'min_samples_leaf': 0.001,\n",
       "   'max_features': 'log2',\n",
       "   'max_depth': 30,\n",
       "   'bootstrap': False},\n",
       "  {'n_estimators': 400,\n",
       "   'min_samples_split': 0.15,\n",
       "   'min_samples_leaf': 0.0001,\n",
       "   'max_features': 'log2',\n",
       "   'max_depth': 30,\n",
       "   'bootstrap': False},\n",
       "  {'n_estimators': 200,\n",
       "   'min_samples_split': 0.05,\n",
       "   'min_samples_leaf': 0.01,\n",
       "   'max_features': 'log2',\n",
       "   'max_depth': 50,\n",
       "   'bootstrap': True},\n",
       "  {'n_estimators': 400,\n",
       "   'min_samples_split': 0.05,\n",
       "   'min_samples_leaf': 0.001,\n",
       "   'max_features': 'log2',\n",
       "   'max_depth': 40,\n",
       "   'bootstrap': True},\n",
       "  {'n_estimators': 200,\n",
       "   'min_samples_split': 0.1,\n",
       "   'min_samples_leaf': 0.004,\n",
       "   'max_features': 'sqrt',\n",
       "   'max_depth': 40,\n",
       "   'bootstrap': True},\n",
       "  {'n_estimators': 400,\n",
       "   'min_samples_split': 0.1,\n",
       "   'min_samples_leaf': 0.004,\n",
       "   'max_features': 'sqrt',\n",
       "   'max_depth': 40,\n",
       "   'bootstrap': True},\n",
       "  {'n_estimators': 300,\n",
       "   'min_samples_split': 0.05,\n",
       "   'min_samples_leaf': 0.0001,\n",
       "   'max_features': 'sqrt',\n",
       "   'max_depth': 50,\n",
       "   'bootstrap': False},\n",
       "  {'n_estimators': 300,\n",
       "   'min_samples_split': 0.15,\n",
       "   'min_samples_leaf': 0.001,\n",
       "   'max_features': 'log2',\n",
       "   'max_depth': 30,\n",
       "   'bootstrap': False},\n",
       "  {'n_estimators': 100,\n",
       "   'min_samples_split': 0.15,\n",
       "   'min_samples_leaf': 0.004,\n",
       "   'max_features': 'sqrt',\n",
       "   'max_depth': 20,\n",
       "   'bootstrap': True}],\n",
       " 'split0_test_score': array([0.95298553, 0.93698964, 0.93696727, 0.93696727, 0.93698964,\n",
       "        0.96588291, 0.93703439, 0.93695608, 0.93701201, 0.95530101,\n",
       "        0.95291841, 0.93696727, 0.9509385 , 0.93547954, 0.93696727,\n",
       "        0.96285152, 0.93587105, 0.93958478, 0.93696727, 0.93696727,\n",
       "        0.93966308, 0.96794112, 0.9640596 , 0.93697846, 0.94295174,\n",
       "        0.93703439, 0.93696727, 0.93696727, 0.93696727, 0.94933891,\n",
       "        0.93967427, 0.95327636, 0.96917157, 0.92939439, 0.93696727,\n",
       "        0.9538804 , 0.95194523, 0.93298508, 0.96968612, 0.93696727,\n",
       "        0.93696727, 0.96829907, 0.93700083, 0.92915949, 0.95267232,\n",
       "        0.94061388, 0.93696727, 0.95424954, 0.94800779, 0.93698964,\n",
       "        0.93701201, 0.93696727, 0.93701201, 0.95366787, 0.9595293 ,\n",
       "        0.95254927, 0.93698964, 0.93701201, 0.93701201, 0.95505492,\n",
       "        0.93696727, 0.94967449, 0.93701201, 0.93696727, 0.93698964,\n",
       "        0.96101702, 0.93709032, 0.92985302, 0.9602452 , 0.95505492,\n",
       "        0.93701201, 0.93696727, 0.95420479, 0.95619589, 0.93696727,\n",
       "        0.93696727, 0.95288485, 0.93696727, 0.93698964, 0.95599454,\n",
       "        0.93696727, 0.95826529, 0.93698964, 0.95421598, 0.93701201,\n",
       "        0.95073715, 0.926844  , 0.93696727, 0.96213562, 0.93696727,\n",
       "        0.95535694, 0.96656525, 0.93701201, 0.94835455, 0.95633012,\n",
       "        0.93743708, 0.93696727, 0.96892548, 0.93701201, 0.93696727]),\n",
       " 'split1_test_score': array([0.95115103, 0.93740352, 0.93740352, 0.93742589, 0.93740352,\n",
       "        0.96517819, 0.93740352, 0.93723573, 0.93740352, 0.95699009,\n",
       "        0.94913756, 0.93740352, 0.95228081, 0.93740352, 0.93750419,\n",
       "        0.95910423, 0.93498736, 0.95082664, 0.93744827, 0.93740352,\n",
       "        0.95039039, 0.96483143, 0.96706861, 0.93740352, 0.94994295,\n",
       "        0.93740352, 0.93740352, 0.93740352, 0.93740352, 0.94181078,\n",
       "        0.94990939, 0.95816461, 0.96917157, 0.93449518, 0.93736996,\n",
       "        0.94931654, 0.95001007, 0.94693394, 0.96817602, 0.93740352,\n",
       "        0.93740352, 0.96449585, 0.93740352, 0.93013267, 0.95120696,\n",
       "        0.94849997, 0.93740352, 0.95414886, 0.94503233, 0.93740352,\n",
       "        0.93740352, 0.93740352, 0.93740352, 0.95652028, 0.95744871,\n",
       "        0.94773932, 0.93740352, 0.93740352, 0.93743708, 0.95476409,\n",
       "        0.93740352, 0.94532316, 0.93740352, 0.93740352, 0.93740352,\n",
       "        0.95850019, 0.93740352, 0.93376809, 0.96121837, 0.95242623,\n",
       "        0.93744827, 0.93740352, 0.94899215, 0.95823173, 0.93740352,\n",
       "        0.93740352, 0.95503255, 0.93740352, 0.93741471, 0.95741515,\n",
       "        0.93740352, 0.95811987, 0.93740352, 0.95306383, 0.93741471,\n",
       "        0.95106155, 0.93236985, 0.93740352, 0.96046891, 0.93740352,\n",
       "        0.9530862 , 0.96439518, 0.93740352, 0.93970782, 0.95438377,\n",
       "        0.93740352, 0.93740352, 0.96807535, 0.93740352, 0.93740352]),\n",
       " 'split2_test_score': array([0.94837634, 0.93650794, 0.93650794, 0.93650794, 0.93650794,\n",
       "        0.96388022, 0.93656387, 0.93650794, 0.93650794, 0.95417072,\n",
       "        0.94947258, 0.93650794, 0.94906988, 0.93650794, 0.93654149,\n",
       "        0.95909259, 0.9210488 , 0.94324194, 0.93650794, 0.93650794,\n",
       "        0.95144132, 0.96234773, 0.96162064, 0.93651912, 0.93890175,\n",
       "        0.93650794, 0.93650794, 0.93650794, 0.93650794, 0.93991968,\n",
       "        0.94910344, 0.95307449, 0.9675828 , 0.92688793, 0.93650794,\n",
       "        0.9516203 , 0.95300737, 0.94370057, 0.96766111, 0.93650794,\n",
       "        0.93650794, 0.96207926, 0.93650794, 0.93076949, 0.9391031 ,\n",
       "        0.95216842, 0.93650794, 0.95443919, 0.93881226, 0.93650794,\n",
       "        0.93650794, 0.93650794, 0.93650794, 0.95411479, 0.95950647,\n",
       "        0.95008781, 0.93650794, 0.93650794, 0.93650794, 0.95462935,\n",
       "        0.93650794, 0.93948343, 0.93650794, 0.93650794, 0.93650794,\n",
       "        0.96014408, 0.93651912, 0.93255926, 0.95899191, 0.95240332,\n",
       "        0.93650794, 0.93650794, 0.95080372, 0.95654217, 0.93650794,\n",
       "        0.93650794, 0.95233621, 0.93650794, 0.93650794, 0.95436088,\n",
       "        0.93650794, 0.95415954, 0.93650794, 0.95392463, 0.93650794,\n",
       "        0.93655268, 0.92378939, 0.93650794, 0.95287314, 0.93656387,\n",
       "        0.9533877 , 0.96318668, 0.93653031, 0.93551238, 0.95632963,\n",
       "        0.93650794, 0.93650794, 0.96716892, 0.93650794, 0.93650794]),\n",
       " 'mean_test_score': array([0.95083764, 0.93696703, 0.93695958, 0.93696703, 0.93696703,\n",
       "        0.96498044, 0.93700059, 0.93689992, 0.93697449, 0.95548728,\n",
       "        0.95050952, 0.93695958, 0.95076307, 0.93646367, 0.93700432,\n",
       "        0.96034945, 0.93063577, 0.94455113, 0.93697449, 0.93695958,\n",
       "        0.94716491, 0.9650401 , 0.96424963, 0.93696703, 0.94393217,\n",
       "        0.93698195, 0.93695958, 0.93695958, 0.93695958, 0.94368981,\n",
       "        0.94622902, 0.95483849, 0.96864199, 0.93025918, 0.93694839,\n",
       "        0.95160575, 0.95165422, 0.94120652, 0.96850775, 0.93695958,\n",
       "        0.93695958, 0.96495807, 0.93697076, 0.93002054, 0.94766083,\n",
       "        0.94709407, 0.93695958, 0.95427919, 0.94395081, 0.93696703,\n",
       "        0.93697449, 0.93695958, 0.93697449, 0.95476765, 0.95882816,\n",
       "        0.95012547, 0.93696703, 0.93697449, 0.93698568, 0.95481612,\n",
       "        0.93695958, 0.94482705, 0.93697449, 0.93695958, 0.93696703,\n",
       "        0.9598871 , 0.93700432, 0.93206012, 0.96015183, 0.95329483,\n",
       "        0.93698941, 0.93695958, 0.95133355, 0.95698993, 0.93695958,\n",
       "        0.93695958, 0.95341787, 0.93695958, 0.93697076, 0.95592353,\n",
       "        0.93695958, 0.95684824, 0.93696703, 0.95373481, 0.93697822,\n",
       "        0.94611716, 0.92766776, 0.93695958, 0.95849258, 0.93697822,\n",
       "        0.95394362, 0.96471571, 0.93698195, 0.9411916 , 0.95568117,\n",
       "        0.93711618, 0.93695958, 0.96805659, 0.93697449, 0.93695958]),\n",
       " 'std_test_score': array([0.00189469, 0.00036597, 0.00036566, 0.00037475, 0.00036597,\n",
       "        0.00082946, 0.00034362, 0.00029976, 0.00036658, 0.00115851,\n",
       "        0.00170883, 0.00036566, 0.00131671, 0.00078609, 0.00039389,\n",
       "        0.00176924, 0.00678857, 0.00468191, 0.00038392, 0.00036566,\n",
       "        0.00532194, 0.00228825, 0.00222818, 0.00036114, 0.00456055,\n",
       "        0.0003675 , 0.00036566, 0.00036566, 0.00036566, 0.00406846,\n",
       "        0.00464659, 0.00235337, 0.00074895, 0.00316527, 0.00035217,\n",
       "        0.00186322, 0.00124083, 0.00596143, 0.00085934, 0.00036566,\n",
       "        0.00036566, 0.00256017, 0.00036624, 0.00066204, 0.00608069,\n",
       "        0.00482073, 0.00036566, 0.00012037, 0.00383116, 0.00036597,\n",
       "        0.00036658, 0.00036566, 0.00036658, 0.00125266, 0.00097546,\n",
       "        0.00196384, 0.00036597, 0.00036658, 0.00037978, 0.00017759,\n",
       "        0.00036566, 0.00417524, 0.00036658, 0.00036566, 0.00036597,\n",
       "        0.00104344, 0.00036614, 0.00163683, 0.00091134, 0.00124461,\n",
       "        0.00038422, 0.00036566, 0.00216078, 0.00088939, 0.00036566,\n",
       "        0.00036566, 0.00116351, 0.00036566, 0.00037043, 0.00124791,\n",
       "        0.00036566, 0.00190212, 0.00036597, 0.00048914, 0.00037096,\n",
       "        0.00676437, 0.00355106, 0.00036566, 0.00403136, 0.00034287,\n",
       "        0.00100693, 0.00139779, 0.00035712, 0.00534674, 0.0009174 ,\n",
       "        0.00043031, 0.00036566, 0.00071723, 0.00036658, 0.00036566]),\n",
       " 'rank_test_score': array([ 30,  65,  73,  65,  65,   5,  49,  94,  56,  18,  32,  73,  31,\n",
       "         95,  47,   9,  97,  40,  56,  73,  35,   4,   8,  65,  42,  52,\n",
       "         73,  73,  73,  43,  37,  19,   1,  98,  93,  28,  27,  44,   2,\n",
       "         73,  73,   6,  63,  99,  34,  36,  73,  22,  41,  65,  56,  73,\n",
       "         56,  21,  12,  33,  65,  56,  51,  20,  73,  39,  56,  73,  65,\n",
       "         11,  47,  96,  10,  26,  50,  73,  29,  14,  73,  73,  25,  73,\n",
       "         63,  16,  73,  15,  65,  24,  54,  38, 100,  73,  13,  54,  23,\n",
       "          7,  52,  45,  17,  46,  73,   3,  56,  73], dtype=int32),\n",
       " 'split0_train_score': array([0.95238122, 0.93696692, 0.93696692, 0.93696692, 0.93696692,\n",
       "        0.96530104, 0.93701166, 0.93693336, 0.93696692, 0.95464079,\n",
       "        0.95235885, 0.93696692, 0.95065858, 0.93544562, 0.93696692,\n",
       "        0.9620571 , 0.93594899, 0.9395397 , 0.93696692, 0.93696692,\n",
       "        0.93943343, 0.96728096, 0.96311977, 0.93699488, 0.94248721,\n",
       "        0.93700048, 0.93696692, 0.93696692, 0.93696692, 0.94884085,\n",
       "        0.93947258, 0.95259375, 0.96889175, 0.929394  , 0.93696692,\n",
       "        0.95357812, 0.95136329, 0.9326659 , 0.96933359, 0.93696692,\n",
       "        0.93696132, 0.96762773, 0.93696692, 0.92877318, 0.95234207,\n",
       "        0.94043458, 0.93696692, 0.95371235, 0.94762717, 0.93696692,\n",
       "        0.93697251, 0.93696692, 0.93696692, 0.95299645, 0.95877961,\n",
       "        0.95221343, 0.93696692, 0.93696692, 0.93696692, 0.95448978,\n",
       "        0.93696692, 0.94886882, 0.93696692, 0.93696692, 0.93696692,\n",
       "        0.9603009 , 0.93707318, 0.92990296, 0.95941162, 0.95461842,\n",
       "        0.93696692, 0.93696692, 0.95373472, 0.95568668, 0.93696692,\n",
       "        0.93696692, 0.95201208, 0.93696692, 0.93696692, 0.95520568,\n",
       "        0.93696692, 0.95756033, 0.93696692, 0.95381303, 0.93696692,\n",
       "        0.9500769 , 0.92686596, 0.93696692, 0.96145865, 0.93696692,\n",
       "        0.95476384, 0.96582678, 0.9369837 , 0.94764395, 0.95570905,\n",
       "        0.93736961, 0.93696692, 0.9686904 , 0.93696692, 0.93696692]),\n",
       " 'split1_train_score': array([0.95078162, 0.93676557, 0.93676557, 0.93679353, 0.93676557,\n",
       "        0.96508851, 0.93676557, 0.93659219, 0.93676557, 0.95664308,\n",
       "        0.9488856 , 0.93675998, 0.95197293, 0.93676557, 0.93683269,\n",
       "        0.95901451, 0.93446685, 0.9504013 , 0.93679353, 0.93675998,\n",
       "        0.95002097, 0.96480886, 0.96707402, 0.93678794, 0.9495232 ,\n",
       "        0.93676557, 0.93675998, 0.93675998, 0.93676557, 0.94139098,\n",
       "        0.9495176 , 0.95809167, 0.96883022, 0.93401381, 0.93675998,\n",
       "        0.94913169, 0.94978047, 0.94630722, 0.96814229, 0.93676557,\n",
       "        0.93676557, 0.96427193, 0.93676557, 0.929394  , 0.95092145,\n",
       "        0.94834307, 0.93676557, 0.95391929, 0.9451271 , 0.93677676,\n",
       "        0.93678794, 0.93675998, 0.93676557, 0.95648648, 0.9571856 ,\n",
       "        0.94775022, 0.93676557, 0.93676557, 0.93678794, 0.95453452,\n",
       "        0.93676557, 0.94485864, 0.93676557, 0.93675998, 0.93676557,\n",
       "        0.95816438, 0.93676557, 0.93313571, 0.96096647, 0.95217428,\n",
       "        0.93681031, 0.93675998, 0.94882407, 0.95842166, 0.93676557,\n",
       "        0.93676557, 0.95474706, 0.93676557, 0.93680472, 0.95743729,\n",
       "        0.93676557, 0.95803574, 0.93676557, 0.95275595, 0.93676557,\n",
       "        0.95072569, 0.93180458, 0.93676557, 0.96036243, 0.93676557,\n",
       "        0.95297408, 0.96416566, 0.93680472, 0.93900836, 0.95394726,\n",
       "        0.93676557, 0.93676557, 0.96786823, 0.93676557, 0.93675998]),\n",
       " 'split2_train_score': array([0.94979194, 0.93721336, 0.93721336, 0.93721336, 0.93721336,\n",
       "        0.9655697 , 0.93726929, 0.93721336, 0.93721336, 0.95557507,\n",
       "        0.95090494, 0.93721336, 0.95051343, 0.93721336, 0.93723573,\n",
       "        0.96066467, 0.92248149, 0.94445625, 0.93721336, 0.93721336,\n",
       "        0.95279536, 0.96384707, 0.96306405, 0.93724133, 0.93965749,\n",
       "        0.93721336, 0.93721336, 0.93721336, 0.93721336, 0.94135775,\n",
       "        0.95053581, 0.95453478, 0.96894226, 0.92824784, 0.93721336,\n",
       "        0.95277859, 0.95422716, 0.94539028, 0.96893667, 0.93721336,\n",
       "        0.93721336, 0.96328777, 0.93721336, 0.93170988, 0.9394841 ,\n",
       "        0.95349449, 0.93721336, 0.95583235, 0.93938902, 0.93721336,\n",
       "        0.93721336, 0.93721336, 0.93721336, 0.95569252, 0.96105618,\n",
       "        0.9514139 , 0.93721336, 0.93721336, 0.93721336, 0.95606725,\n",
       "        0.93721336, 0.93994832, 0.93721336, 0.93721336, 0.93721336,\n",
       "        0.96139175, 0.93721336, 0.93341574, 0.96044654, 0.95346093,\n",
       "        0.93721336, 0.93721336, 0.95210184, 0.95827647, 0.93721336,\n",
       "        0.93721336, 0.95418242, 0.93721336, 0.93721336, 0.95579319,\n",
       "        0.93721336, 0.95547999, 0.93720777, 0.9551556 , 0.93721336,\n",
       "        0.9372637 , 0.92492002, 0.93721336, 0.95436699, 0.93729166,\n",
       "        0.95478646, 0.96458534, 0.93721336, 0.93724692, 0.95774514,\n",
       "        0.93721336, 0.93721336, 0.96866261, 0.93721336, 0.93721336]),\n",
       " 'mean_train_score': array([0.95098493, 0.93698195, 0.93698195, 0.93699127, 0.93698195,\n",
       "        0.96531975, 0.93701551, 0.93691297, 0.93698195, 0.95561965,\n",
       "        0.95071646, 0.93698008, 0.95104831, 0.93647485, 0.93701178,\n",
       "        0.96057876, 0.93096578, 0.94479908, 0.93699127, 0.93698008,\n",
       "        0.94741659, 0.9653123 , 0.96441928, 0.93700805, 0.9438893 ,\n",
       "        0.93699314, 0.93698008, 0.93698008, 0.93698195, 0.94386319,\n",
       "        0.94650866, 0.9550734 , 0.96888808, 0.93055188, 0.93698008,\n",
       "        0.95182946, 0.95179031, 0.94145447, 0.96880418, 0.93698195,\n",
       "        0.93698008, 0.96506248, 0.93698195, 0.92995902, 0.94758254,\n",
       "        0.94742405, 0.93698195, 0.954488  , 0.94404777, 0.93698568,\n",
       "        0.93699127, 0.93698008, 0.93698195, 0.95505848, 0.95900713,\n",
       "        0.95045918, 0.93698195, 0.93698195, 0.93698941, 0.95503052,\n",
       "        0.93698195, 0.94455859, 0.93698195, 0.93698008, 0.93698195,\n",
       "        0.95995235, 0.93701737, 0.93215147, 0.96027488, 0.95341787,\n",
       "        0.93699686, 0.93698008, 0.95155354, 0.9574616 , 0.93698195,\n",
       "        0.93698195, 0.95364719, 0.93698195, 0.936995  , 0.95614539,\n",
       "        0.93698195, 0.95702535, 0.93698008, 0.95390819, 0.93698195,\n",
       "        0.9460221 , 0.92786352, 0.93698195, 0.95872936, 0.93700805,\n",
       "        0.95417479, 0.96485926, 0.93700059, 0.94129974, 0.95580048,\n",
       "        0.93711618, 0.93698195, 0.96840708, 0.93698195, 0.93698008]),\n",
       " 'std_train_score': array([1.06679860e-03, 1.83118637e-04, 1.83118637e-04, 1.72256164e-04,\n",
       "        1.83118637e-04, 1.96890018e-04, 2.05661065e-04, 2.54002736e-04,\n",
       "        1.83118637e-04, 8.18040286e-04, 1.42419865e-03, 1.85327261e-04,\n",
       "        6.56482283e-04, 7.50383383e-04, 1.67573020e-04, 1.24361687e-03,\n",
       "        6.02973457e-03, 4.44085164e-03, 1.72256164e-04, 1.85327261e-04,\n",
       "        5.75745558e-03, 1.44637504e-03, 1.87732296e-03, 1.85327196e-04,\n",
       "        4.14788725e-03, 1.82883566e-04, 1.85327261e-04, 1.85327261e-04,\n",
       "        1.83118637e-04, 3.51976223e-03, 4.99259676e-03, 2.27659943e-03,\n",
       "        4.58111410e-05, 2.49227486e-03, 1.85327261e-04, 1.93534066e-03,\n",
       "        1.84029325e-03, 6.22571859e-03, 4.95289727e-04, 1.83118637e-04,\n",
       "        1.83290575e-04, 1.85787270e-03, 1.83118637e-04, 1.26372355e-03,\n",
       "        5.75575227e-03, 5.37114324e-03, 1.83118637e-04, 9.54344687e-04,\n",
       "        3.44871841e-03, 1.78736193e-04, 1.74182454e-04, 1.85327261e-04,\n",
       "        1.83118637e-04, 1.49367145e-03, 1.58832334e-03, 1.94313876e-03,\n",
       "        1.83118637e-04, 1.83118637e-04, 1.74403068e-04, 7.33308263e-04,\n",
       "        1.83118637e-04, 3.64795188e-03, 1.83118637e-04, 1.85327261e-04,\n",
       "        1.83118637e-04, 1.34042476e-03, 1.87021389e-04, 1.59404061e-03,\n",
       "        6.46268337e-04, 9.98280251e-04, 1.65900187e-04, 1.85327261e-04,\n",
       "        2.04190986e-03, 1.25645842e-03, 1.83118637e-04, 1.83118637e-04,\n",
       "        1.17894867e-03, 1.83118637e-04, 1.68004188e-04, 9.44474046e-04,\n",
       "        1.83118637e-04, 1.10984044e-03, 1.80766523e-04, 9.81960073e-04,\n",
       "        1.83118637e-04, 6.19878552e-03, 2.89777307e-03, 1.83118637e-04,\n",
       "        3.11695571e-03, 2.16736744e-04, 8.49083561e-04, 7.05268863e-04,\n",
       "        1.67253834e-04, 4.54330192e-03, 1.55182603e-03, 2.55994904e-04,\n",
       "        1.83118637e-04, 3.81193723e-04, 1.83118637e-04, 1.85327261e-04])}"
      ]
     },
     "execution_count": 122,
     "metadata": {},
     "output_type": "execute_result"
    }
   ],
   "source": [
    "rf_random.cv_results_\n"
   ]
  },
  {
   "cell_type": "code",
   "execution_count": 123,
   "metadata": {},
   "outputs": [
    {
     "name": "stdout",
     "output_type": "stream",
     "text": [
      "F1: 0.9204600973514848\n",
      "Accuracy: 0.9672202460408013\n",
      "Precision: 0.9941499133561778\n",
      "Recall: 0.8569407008086254\n",
      "ROC: 0.9277536727241138\n"
     ]
    }
   ],
   "source": [
    "print(\"F1: \" + str(metrics.f1_score(y_test, predictions)))\n",
    "print(\"Accuracy: \" + str(metrics.accuracy_score(y_test, predictions)))\n",
    "print(\"Precision: \" + str(metrics.precision_score(y_test, predictions)))\n",
    "print(\"Recall: \" + str(metrics.recall_score(y_test, predictions)))\n",
    "print(\"ROC: \" + str(metrics.roc_auc_score(y_test, predictions)))\n"
   ]
  },
  {
   "cell_type": "code",
   "execution_count": null,
   "metadata": {},
   "outputs": [],
   "source": []
  }
 ],
 "metadata": {
  "kernelspec": {
   "display_name": "Python 3",
   "language": "python",
   "name": "python3"
  },
  "language_info": {
   "codemirror_mode": {
    "name": "ipython",
    "version": 3
   },
   "file_extension": ".py",
   "mimetype": "text/x-python",
   "name": "python",
   "nbconvert_exporter": "python",
   "pygments_lexer": "ipython3",
   "version": "3.7.3"
  }
 },
 "nbformat": 4,
 "nbformat_minor": 2
}
