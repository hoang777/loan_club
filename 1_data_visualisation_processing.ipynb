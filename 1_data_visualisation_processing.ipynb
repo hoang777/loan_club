{
 "cells": [
  {
   "cell_type": "code",
   "execution_count": 1,
   "metadata": {},
   "outputs": [],
   "source": [
    "import matplotlib.patches as mpatches\n",
    "import matplotlib.pyplot as plt\n",
    "import matplotlib.pyplot as plt\n",
    "import seaborn as sns\n",
    "import pandas as pd\n",
    "import numpy as np\n",
    "import warnings\n",
    "from sklearn import preprocessing\n",
    "import time\n",
    "from datetime import date, datetime\n",
    "\n",
    "today = datetime.today()\n",
    "warnings.filterwarnings(\"ignore\", category=FutureWarning)\n",
    "pd.options.display.max_rows = 200"
   ]
  },
  {
   "cell_type": "code",
   "execution_count": 2,
   "metadata": {},
   "outputs": [],
   "source": [
    "#TODO: Remove unused packages"
   ]
  },
  {
   "cell_type": "markdown",
   "metadata": {},
   "source": [
    "# Coding Challenge\n",
    "## Objective: improve performance\n",
    "### Benchmark: https://triamus.github.io/project/lending-club-loan-data-in-r/#loan-amount-and-income\n",
    "\n",
    "Some steps with preprocessing data was skipped, due to time constraint. The project is mainly supposed to show the improvement of the performance"
   ]
  },
  {
   "cell_type": "markdown",
   "metadata": {},
   "source": [
    "# Prepare Data"
   ]
  },
  {
   "cell_type": "code",
   "execution_count": null,
   "metadata": {},
   "outputs": [],
   "source": []
  },
  {
   "cell_type": "code",
   "execution_count": 3,
   "metadata": {},
   "outputs": [
    {
     "name": "stderr",
     "output_type": "stream",
     "text": [
      "/Library/Frameworks/Python.framework/Versions/3.7/lib/python3.7/site-packages/IPython/core/interactiveshell.py:3049: DtypeWarning: Columns (19,47,55,112,123,124,125,128,129,130,133,139,140,141) have mixed types. Specify dtype option on import or set low_memory=False.\n",
      "  interactivity=interactivity, compiler=compiler, result=result)\n"
     ]
    }
   ],
   "source": [
    "dt = pd.read_csv(\"loan.csv\")"
   ]
  },
  {
   "cell_type": "code",
   "execution_count": 4,
   "metadata": {},
   "outputs": [],
   "source": [
    "# drop columns that containt all nans\n",
    "data = dt.dropna(axis=1, how='all')"
   ]
  },
  {
   "cell_type": "code",
   "execution_count": 5,
   "metadata": {},
   "outputs": [],
   "source": [
    "d_variable = [\n",
    "    \"emp_title\",\"title\" ,\"desc\", \"verification_status_joint\", \"next_pymnt_d\",\"hardship_status\",\n",
    "    \"sub_grade\",\"policy_code\",\"zip_code\",\"addr_state\",\"sec_app_earliest_cr_line\", \"settlement_term\",\n",
    "    \"settlement_status\", \"settlement_date\", \"settlement_amount\",\"settlement_percentage\",\n",
    "    \"debt_settlement_flag_date\", \"debt_settlement_flag\",\"disbursement_method\",\"hardship_dpd\",\n",
    "    \"hardship_loan_status\", \"hardship_dpd\",\"payment_plan_start_date\",\n",
    "    \"mths_since_recent_bc\",\"mths_since_recent_bc_dlq\",\"mths_since_recent_inq\",\"mths_since_recent_revol_delinq\",\n",
    "    \"mo_sin_old_il_acct\",\"mo_sin_old_rev_tl_op\",\"mo_sin_rcnt_rev_tl_op\",\"mo_sin_rcnt_tl\",\n",
    "    \"pct_tl_nvr_dlq\",\"tot_hi_cred_lim\",\"total_bal_ex_mort\",\"total_bc_limit\",\n",
    "    \"total_il_high_credit_limit\",\"last_pymnt_d\",\"issue_d\"\n",
    "]\n"
   ]
  },
  {
   "cell_type": "code",
   "execution_count": 6,
   "metadata": {},
   "outputs": [],
   "source": [
    "data = data.drop(d_variable, axis=1)"
   ]
  },
  {
   "cell_type": "markdown",
   "metadata": {},
   "source": [
    "# Short Explanation on removing some variables\n",
    "\n",
    "1. too many distinct values, creating dummy variables will be too expensive<br>\n",
    "emp_title<br>\n",
    "title\n",
    "2. Text data might be interesting but NLP is out of scope for this project. Processing too time consuming, leave out for this analysis.<br>\n",
    "desc\n",
    "2. also might tell us something (for example, some states might have some systematic risk) it will require to create 50 dummies. For ZIP Code it would require even more Computationally too expensive. The computer I'm using already hardly copes with current data dimension<br>\n",
    "addr_state<br>\n",
    "zip_code\n",
    "3. since it's not live data, it would be biased<br>\n",
    "last_pymnt_d<br>\n",
    "last_pymnt_amnt<br>\n",
    "settlement_term<br>\n",
    "settlement_status<br>\n",
    "settlement_date<br>\n",
    "settlement_amount<br>\n",
    "settlement_percentage\n",
    "4. redundant, information contained in other variables<br>\n",
    "hardship_status\n",
    "5. not enough information to use data once could for example calcualte the lenght of the settlement. In the active settlements, we can use current data but for  there is no information on enddate for COMPLETE and BROKEN<br>\n",
    "settlement_term<br>\n",
    "settlement_status<br>\n",
    "settlement_date<br>\n",
    "settlement_amount<br>\n",
    "settlement_percentage\n",
    "6. Hard to handle missing values without imputing method, further I will impute most data with 0, which is not optimal in the case of some variables. Missing days since last deliquincies might say that there was none of them. Imputing 0 will bias data.\n",
    "mths_since_recent_bc<br>\n",
    "mths_since_recent_bc_dlq<br>\n",
    "mths_since_recent_inq<br>\n",
    "mths_since_recent_revol_delinq<br>\n",
    "mo_sin_old_il_acct<br>\n",
    "mo_sin_old_rev_tl_op<br>\n",
    "mo_sin_rcnt_rev_tl_op<br>\n",
    "mo_sin_rcnt_tl<br>\n",
    "pct_tl_nvr_dlq<br>\n",
    "percent_bc_gt_75<br>\n",
    "tot_hi_cred_lim<br>\n",
    "total_bal_ex_mort<br>\n",
    "total_bc_limit<br>\n",
    "total_il_high_credit_limit<br>\n",
    "\n"
   ]
  },
  {
   "cell_type": "code",
   "execution_count": 7,
   "metadata": {},
   "outputs": [],
   "source": [
    "# Since we are interested in default and non-default, current loans arent going to help us with prediction.\n",
    "# the would be great observations of out of sample testing\n",
    "data = data.loc[data[\"loan_status\"]!=\"Current\"]"
   ]
  },
  {
   "cell_type": "code",
   "execution_count": 8,
   "metadata": {},
   "outputs": [],
   "source": [
    "data[\"earliest_cr_line\"] = pd.to_datetime(data[\"earliest_cr_line\"])\n",
    "#data[\"issue_d\"] = pd.to_datetime(data[\"issue_d\"])\n",
    "data[\"hardship_start_date\"] = pd.to_datetime(data[\"hardship_start_date\"],errors = 'coerce')\n",
    "data[\"hardship_end_date\"] = pd.to_datetime(data[\"hardship_end_date\"],errors = 'coerce')\n",
    "data[\"last_credit_pull_d\"] = pd.to_datetime(data[\"last_credit_pull_d\"],errors = 'coerce')\n"
   ]
  },
  {
   "cell_type": "code",
   "execution_count": 9,
   "metadata": {},
   "outputs": [],
   "source": [
    "# already looked at data. if hardship_start_date exists then hardship_end_date also does"
   ]
  },
  {
   "cell_type": "code",
   "execution_count": 10,
   "metadata": {},
   "outputs": [],
   "source": [
    "initial_listing = pd.get_dummies(data[\"initial_list_status\"])\n",
    "data = data.merge(initial_listing, left_index=True, right_index=True)\n",
    "data = data.drop(\"initial_list_status\", axis=1)"
   ]
  },
  {
   "cell_type": "code",
   "execution_count": 11,
   "metadata": {},
   "outputs": [],
   "source": [
    "hardship_type = pd.get_dummies(data[\"hardship_type\"])\n",
    "data[\"hardship_type\"] = data[\"hardship_type\"].replace(np.nan,\"No Hardship\")\n",
    "data = data.merge(hardship_type, left_index=True, right_index=True)\n",
    "data = data.drop(\"hardship_type\", axis=1)"
   ]
  },
  {
   "cell_type": "code",
   "execution_count": 12,
   "metadata": {},
   "outputs": [],
   "source": [
    "verification = pd.get_dummies(data[\"verification_status\"])\n",
    "data = data.merge(verification, left_index=True, right_index=True)\n",
    "data = data.drop(\"verification_status\", axis=1)"
   ]
  },
  {
   "cell_type": "code",
   "execution_count": 13,
   "metadata": {},
   "outputs": [],
   "source": [
    "data['harship_len'] = (data['hardship_end_date'] - data['hardship_start_date'])\n",
    "data['harship_len'] = data['harship_len'].apply(lambda x: x.days)\n",
    "data['harship_len'] = data['harship_len'].replace(np.nan,0)\n",
    "data = data.drop(\"hardship_end_date\", axis=1)\n",
    "data = data.drop(\"hardship_start_date\", axis=1)\n"
   ]
  },
  {
   "cell_type": "code",
   "execution_count": 14,
   "metadata": {},
   "outputs": [],
   "source": [
    "data[\"last_credit_pull_d\"] = (pd.Timestamp(today) - data[\"last_credit_pull_d\"])\n",
    "data['last_credit_pull_d'] = data['last_credit_pull_d'].apply(lambda x: x.days)\n",
    "data['last_credit_pull_d'] = data['last_credit_pull_d'].replace(np.nan,0)\n"
   ]
  },
  {
   "cell_type": "code",
   "execution_count": 15,
   "metadata": {},
   "outputs": [],
   "source": [
    "data[\"earliest_cr_line\"] = (pd.Timestamp(today) - data[\"earliest_cr_line\"])\n",
    "data['earliest_cr_line'] = data['earliest_cr_line'].apply(lambda x: x.days)\n",
    "data['earliest_cr_line'] = data['earliest_cr_line'].replace(np.nan,0)\n"
   ]
  },
  {
   "cell_type": "code",
   "execution_count": 16,
   "metadata": {},
   "outputs": [
    {
     "data": {
      "text/plain": [
       "array([1, 0])"
      ]
     },
     "execution_count": 16,
     "metadata": {},
     "output_type": "execute_result"
    }
   ],
   "source": [
    "\n",
    "term = {' 36 months': 1,' 60 months': 0}\n",
    "data.term = [term[item] for item in data.term]\n",
    "\n",
    "data[\"term\"].unique()"
   ]
  },
  {
   "cell_type": "code",
   "execution_count": 17,
   "metadata": {},
   "outputs": [
    {
     "data": {
      "text/plain": [
       "array([4, 5, 7, 6, 3, 1, 2])"
      ]
     },
     "execution_count": 17,
     "metadata": {},
     "output_type": "execute_result"
    }
   ],
   "source": [
    "grade = {\n",
    "    'A' : 7, 'B' : 6, 'C' : 5,\n",
    "    'D' : 4, 'E' : 3, 'F' : 2,\n",
    "    'G' : 1,\n",
    "}\n",
    "\n",
    "data.grade = [grade[item] for item in data.grade]\n",
    "\n",
    "data[\"grade\"].unique()"
   ]
  },
  {
   "cell_type": "code",
   "execution_count": 18,
   "metadata": {},
   "outputs": [],
   "source": [
    "purpose_dummies = pd.get_dummies(data[\"purpose\"])\n",
    "data = data.merge(purpose_dummies, left_index=True, right_index=True)\n",
    "data = data.drop(\"purpose\", axis=1)"
   ]
  },
  {
   "cell_type": "code",
   "execution_count": 19,
   "metadata": {},
   "outputs": [
    {
     "data": {
      "text/plain": [
       "array([ 6,  1, 11,  4,  5,  2,  9,  0,  3,  7, 10,  8])"
      ]
     },
     "execution_count": 19,
     "metadata": {},
     "output_type": "execute_result"
    }
   ],
   "source": [
    "employment = {\n",
    "    '10+ years' : 11, '6 years' : 7, \n",
    "    '4 years' : 5, '< 1 year' : 1, \n",
    "    '2 years' : 3, '9 years' : 10,\n",
    "    np.nan : 0, '5 years' : 6,\n",
    "    '3 years' : 4, '7 years' : 8,\n",
    "    '1 year' : 2,'8 years' : 9\n",
    "             }\n",
    "\n",
    "data.emp_length = [employment[item] for item in data.emp_length]\n",
    "data[\"emp_length\"].unique()"
   ]
  },
  {
   "cell_type": "code",
   "execution_count": 20,
   "metadata": {},
   "outputs": [],
   "source": [
    "\n",
    "plan = {'y': 1,'n': 0}\n",
    "data.pymnt_plan = [plan[item] for item in data.pymnt_plan]\n",
    "\n",
    "data[\"pymnt_plan\"].unique()\n",
    "data[\"hardship_length\"] = data[\"hardship_length\"].replace(np.nan,0)"
   ]
  },
  {
   "cell_type": "code",
   "execution_count": 21,
   "metadata": {},
   "outputs": [
    {
     "data": {
      "text/plain": [
       "array([0, 1])"
      ]
     },
     "execution_count": 21,
     "metadata": {},
     "output_type": "execute_result"
    }
   ],
   "source": [
    "application = {'Individual': 1,'Joint App': 0}\n",
    "data.application_type = [application[item] for item in data.application_type]\n",
    "\n",
    "data[\"application_type\"].unique()"
   ]
  },
  {
   "cell_type": "code",
   "execution_count": 22,
   "metadata": {},
   "outputs": [],
   "source": [
    "home_dummies = pd.get_dummies(data[\"home_ownership\"])\n",
    "data = data.merge(home_dummies, left_index=True, right_index=True)\n",
    "data = data.drop(\"home_ownership\", axis = 1)"
   ]
  },
  {
   "cell_type": "code",
   "execution_count": 23,
   "metadata": {},
   "outputs": [],
   "source": [
    "# 0: not default\n",
    "# 1: default\n",
    "default = {\n",
    "    'Current' : 0, 'Fully Paid' : 0 ,\n",
    "    'Late (31-120 days)' : 1, 'In Grace Period':1,\n",
    "    'Charged Off' : 1, 'Late (16-30 days)':1,\n",
    "    'Default' : 1, 'Does not meet the credit policy. Status:Fully Paid' : 0,\n",
    "    'Does not meet the credit policy. Status:Charged Off' : 1\n",
    "}\n",
    "\n",
    "data.loan_status = [default[item] for item in data.loan_status]"
   ]
  },
  {
   "cell_type": "code",
   "execution_count": 24,
   "metadata": {},
   "outputs": [],
   "source": [
    "# looking the outliars closely, remove few examples with absurdly high income\n",
    "data = (data.loc[data[\"annual_inc\"]<10000000])"
   ]
  },
  {
   "cell_type": "code",
   "execution_count": 25,
   "metadata": {},
   "outputs": [
    {
     "name": "stderr",
     "output_type": "stream",
     "text": [
      "/Library/Frameworks/Python.framework/Versions/3.7/lib/python3.7/site-packages/ipykernel_launcher.py:2: RuntimeWarning: divide by zero encountered in log\n",
      "  \n",
      "/Library/Frameworks/Python.framework/Versions/3.7/lib/python3.7/site-packages/ipykernel_launcher.py:5: RuntimeWarning: divide by zero encountered in log\n",
      "  \"\"\"\n",
      "/Library/Frameworks/Python.framework/Versions/3.7/lib/python3.7/site-packages/ipykernel_launcher.py:9: RuntimeWarning: divide by zero encountered in log\n",
      "  if __name__ == '__main__':\n"
     ]
    }
   ],
   "source": [
    "# normalize some skewed data\n",
    "data[\"annual_inc\"] = np.log(data[\"annual_inc\"])\n",
    "data[\"annual_inc\"] = data[\"annual_inc\"].replace(float('-inf'),0)\n",
    "\n",
    "data[\"total_pymnt_inv\"] = np.log(data[\"total_pymnt_inv\"])\n",
    "data[\"total_pymnt_inv\"] = data[\"total_pymnt_inv\"].replace(float('-inf'),0)\n",
    "\n",
    "\n",
    "data[\"total_pymnt\"] = np.log(data[\"total_pymnt\"])\n",
    "data[\"total_pymnt\"] = data[\"total_pymnt\"].replace(float('-inf'),0)\n",
    "\n",
    "\n",
    "data[\"installment\"] = np.log(data[\"installment\"])\n",
    "data[\"installment\"] = data[\"installment\"].replace(float('-inf'),0)"
   ]
  },
  {
   "cell_type": "code",
   "execution_count": 26,
   "metadata": {},
   "outputs": [],
   "source": [
    "data[\"hardship_reason\"] = data[\"hardship_reason\"].replace(np.nan,'NO_HARDSHIP')\n",
    "hardship_reason = pd.get_dummies(data[\"hardship_reason\"])\n",
    "data = data.merge(hardship_reason, left_index=True, right_index=True)\n",
    "data = data.drop(\"hardship_reason\", axis=1)"
   ]
  },
  {
   "cell_type": "code",
   "execution_count": 27,
   "metadata": {},
   "outputs": [],
   "source": [
    "hardship = {'Y': 1,'N': 0}\n",
    "data.hardship_flag = [hardship[item] for item in data.hardship_flag]"
   ]
  },
  {
   "cell_type": "markdown",
   "metadata": {},
   "source": [
    "# some visual"
   ]
  },
  {
   "cell_type": "code",
   "execution_count": 28,
   "metadata": {},
   "outputs": [
    {
     "data": {
      "image/png": "[encoded data removed]",
      "text/plain": [
       "<Figure size 1080x504 with 1 Axes>"
      ]
     },
     "metadata": {
      "needs_background": "light"
     },
     "output_type": "display_data"
    }
   ],
   "source": [
    "# outcome variable\n",
    "plt.figure(figsize=(15,7))\n",
    "ax = sns.countplot(x=\"loan_status\", data=data)\n",
    "plt.show()"
   ]
  },
  {
   "cell_type": "code",
   "execution_count": 29,
   "metadata": {},
   "outputs": [
    {
     "data": {
      "text/html": [
       "<div>\n",
       "<style scoped>\n",
       "    .dataframe tbody tr th:only-of-type {\n",
       "        vertical-align: middle;\n",
       "    }\n",
       "\n",
       "    .dataframe tbody tr th {\n",
       "        vertical-align: top;\n",
       "    }\n",
       "\n",
       "    .dataframe thead th {\n",
       "        text-align: right;\n",
       "    }\n",
       "</style>\n",
       "<table border=\"1\" class=\"dataframe\">\n",
       "  <thead>\n",
       "    <tr style=\"text-align: right;\">\n",
       "      <th></th>\n",
       "      <th>loan_amnt</th>\n",
       "      <th>funded_amnt</th>\n",
       "      <th>funded_amnt_inv</th>\n",
       "      <th>term</th>\n",
       "      <th>int_rate</th>\n",
       "      <th>installment</th>\n",
       "      <th>grade</th>\n",
       "      <th>emp_length</th>\n",
       "      <th>annual_inc</th>\n",
       "      <th>loan_status</th>\n",
       "      <th>...</th>\n",
       "      <th>DISABILITY</th>\n",
       "      <th>DIVORCE</th>\n",
       "      <th>EXCESSIVE_OBLIGATIONS</th>\n",
       "      <th>FAMILY_DEATH</th>\n",
       "      <th>INCOME_CURTAILMENT</th>\n",
       "      <th>MEDICAL</th>\n",
       "      <th>NATURAL_DISASTER</th>\n",
       "      <th>NO_HARDSHIP</th>\n",
       "      <th>REDUCED_HOURS</th>\n",
       "      <th>UNEMPLOYMENT</th>\n",
       "    </tr>\n",
       "  </thead>\n",
       "  <tbody>\n",
       "    <tr>\n",
       "      <th>100</th>\n",
       "      <td>30000</td>\n",
       "      <td>30000</td>\n",
       "      <td>30000.0</td>\n",
       "      <td>1</td>\n",
       "      <td>22.35</td>\n",
       "      <td>7.048525</td>\n",
       "      <td>4</td>\n",
       "      <td>6</td>\n",
       "      <td>11.512925</td>\n",
       "      <td>0</td>\n",
       "      <td>...</td>\n",
       "      <td>0</td>\n",
       "      <td>0</td>\n",
       "      <td>0</td>\n",
       "      <td>0</td>\n",
       "      <td>0</td>\n",
       "      <td>0</td>\n",
       "      <td>0</td>\n",
       "      <td>1</td>\n",
       "      <td>0</td>\n",
       "      <td>0</td>\n",
       "    </tr>\n",
       "    <tr>\n",
       "      <th>152</th>\n",
       "      <td>40000</td>\n",
       "      <td>40000</td>\n",
       "      <td>40000.0</td>\n",
       "      <td>0</td>\n",
       "      <td>16.14</td>\n",
       "      <td>6.883165</td>\n",
       "      <td>5</td>\n",
       "      <td>1</td>\n",
       "      <td>10.714418</td>\n",
       "      <td>0</td>\n",
       "      <td>...</td>\n",
       "      <td>0</td>\n",
       "      <td>0</td>\n",
       "      <td>0</td>\n",
       "      <td>0</td>\n",
       "      <td>0</td>\n",
       "      <td>0</td>\n",
       "      <td>0</td>\n",
       "      <td>1</td>\n",
       "      <td>0</td>\n",
       "      <td>0</td>\n",
       "    </tr>\n",
       "    <tr>\n",
       "      <th>170</th>\n",
       "      <td>20000</td>\n",
       "      <td>20000</td>\n",
       "      <td>20000.0</td>\n",
       "      <td>1</td>\n",
       "      <td>7.56</td>\n",
       "      <td>6.434033</td>\n",
       "      <td>7</td>\n",
       "      <td>11</td>\n",
       "      <td>11.512925</td>\n",
       "      <td>0</td>\n",
       "      <td>...</td>\n",
       "      <td>0</td>\n",
       "      <td>0</td>\n",
       "      <td>0</td>\n",
       "      <td>0</td>\n",
       "      <td>0</td>\n",
       "      <td>0</td>\n",
       "      <td>0</td>\n",
       "      <td>1</td>\n",
       "      <td>0</td>\n",
       "      <td>0</td>\n",
       "    </tr>\n",
       "    <tr>\n",
       "      <th>186</th>\n",
       "      <td>4500</td>\n",
       "      <td>4500</td>\n",
       "      <td>4500.0</td>\n",
       "      <td>1</td>\n",
       "      <td>11.31</td>\n",
       "      <td>4.997145</td>\n",
       "      <td>6</td>\n",
       "      <td>11</td>\n",
       "      <td>10.558414</td>\n",
       "      <td>0</td>\n",
       "      <td>...</td>\n",
       "      <td>0</td>\n",
       "      <td>0</td>\n",
       "      <td>0</td>\n",
       "      <td>0</td>\n",
       "      <td>0</td>\n",
       "      <td>0</td>\n",
       "      <td>0</td>\n",
       "      <td>1</td>\n",
       "      <td>0</td>\n",
       "      <td>0</td>\n",
       "    </tr>\n",
       "    <tr>\n",
       "      <th>215</th>\n",
       "      <td>8425</td>\n",
       "      <td>8425</td>\n",
       "      <td>8425.0</td>\n",
       "      <td>1</td>\n",
       "      <td>27.27</td>\n",
       "      <td>5.844066</td>\n",
       "      <td>3</td>\n",
       "      <td>4</td>\n",
       "      <td>13.017003</td>\n",
       "      <td>0</td>\n",
       "      <td>...</td>\n",
       "      <td>0</td>\n",
       "      <td>0</td>\n",
       "      <td>0</td>\n",
       "      <td>0</td>\n",
       "      <td>0</td>\n",
       "      <td>0</td>\n",
       "      <td>0</td>\n",
       "      <td>1</td>\n",
       "      <td>0</td>\n",
       "      <td>0</td>\n",
       "    </tr>\n",
       "  </tbody>\n",
       "</table>\n",
       "<p>5 rows × 134 columns</p>\n",
       "</div>"
      ],
      "text/plain": [
       "     loan_amnt  funded_amnt  funded_amnt_inv  term  int_rate  installment  \\\n",
       "100      30000        30000          30000.0     1     22.35     7.048525   \n",
       "152      40000        40000          40000.0     0     16.14     6.883165   \n",
       "170      20000        20000          20000.0     1      7.56     6.434033   \n",
       "186       4500         4500           4500.0     1     11.31     4.997145   \n",
       "215       8425         8425           8425.0     1     27.27     5.844066   \n",
       "\n",
       "     grade  emp_length  annual_inc  loan_status  ...  DISABILITY  DIVORCE  \\\n",
       "100      4           6   11.512925            0  ...           0        0   \n",
       "152      5           1   10.714418            0  ...           0        0   \n",
       "170      7          11   11.512925            0  ...           0        0   \n",
       "186      6          11   10.558414            0  ...           0        0   \n",
       "215      3           4   13.017003            0  ...           0        0   \n",
       "\n",
       "     EXCESSIVE_OBLIGATIONS  FAMILY_DEATH  INCOME_CURTAILMENT  MEDICAL  \\\n",
       "100                      0             0                   0        0   \n",
       "152                      0             0                   0        0   \n",
       "170                      0             0                   0        0   \n",
       "186                      0             0                   0        0   \n",
       "215                      0             0                   0        0   \n",
       "\n",
       "     NATURAL_DISASTER  NO_HARDSHIP  REDUCED_HOURS  UNEMPLOYMENT  \n",
       "100                 0            1              0             0  \n",
       "152                 0            1              0             0  \n",
       "170                 0            1              0             0  \n",
       "186                 0            1              0             0  \n",
       "215                 0            1              0             0  \n",
       "\n",
       "[5 rows x 134 columns]"
      ]
     },
     "execution_count": 29,
     "metadata": {},
     "output_type": "execute_result"
    }
   ],
   "source": [
    "data.head()"
   ]
  },
  {
   "cell_type": "code",
   "execution_count": null,
   "metadata": {},
   "outputs": [],
   "source": []
  },
  {
   "cell_type": "code",
   "execution_count": null,
   "metadata": {
    "scrolled": true
   },
   "outputs": [],
   "source": [
    "sns.pairplot(data=data, hue='loan_status')\n"
   ]
  },
  {
   "cell_type": "markdown",
   "metadata": {},
   "source": [
    "# Replace NaNs\n",
    "Idealy, I would spend some time on data imputation, to keep the distribution. Due to a time constraint, I will replace most of the values with 0. By looking at the variable it makes sense."
   ]
  },
  {
   "cell_type": "markdown",
   "metadata": {},
   "source": [
    "##### i could have just done data.replace(np.nan,0) but I wanted to provide some intuation of why they were set to 0. "
   ]
  },
  {
   "cell_type": "code",
   "execution_count": 29,
   "metadata": {},
   "outputs": [],
   "source": [
    "# if no joint, replace with non-joint value\n",
    "data.revol_bal_joint.fillna(data.revol_bal, inplace=True)\n",
    "data.annual_inc_joint.fillna(data.annual_inc, inplace=True)\n",
    "data.dti_joint.fillna(data.dti, inplace=True)\n",
    "data.annual_inc_joint.fillna(data.annual_inc, inplace=True)"
   ]
  },
  {
   "cell_type": "code",
   "execution_count": 30,
   "metadata": {},
   "outputs": [],
   "source": [
    "# many nans from hardship occure due to the fact that these people were not in hardship\n",
    "data[[\"hardship_amount\", \n",
    "      \"hardship_last_payment_amount\",\n",
    "      \"hardship_last_payment_amount\", \n",
    "      \"orig_projected_additional_accrued_interest\",\n",
    "      \"deferral_term\",\n",
    "      \"hardship_payoff_balance_amount\"]] = \\\n",
    "data[[\"hardship_amount\", \n",
    "      \"hardship_last_payment_amount\",\n",
    "      \"hardship_last_payment_amount\", \n",
    "      \"orig_projected_additional_accrued_interest\",\n",
    "      \"deferral_term\",\n",
    "      \"hardship_payoff_balance_amount\"]].replace(np.nan,0)\n",
    "\n",
    "# if income is missing, I will assume that is safe to assume that the indivisual has no income\n",
    "data[\"annual_inc\"] = data[\"annual_inc\"].replace(np.nan,0)\n",
    "# dti is a ratio where in denominator there is income, by examining it closely due to income 0 we get nans.\n",
    "# Assume again that it's safe to divide it by 0\n",
    "data[[\"dti\",\"il_util\"]] = data[[\"dti\",\"il_util\"]].replace(np.nan,0)\n",
    "\n",
    "# for the number of account its reasonable to say that maybe these people didnt have an account\n",
    "# same logic for account balance or other credits\n",
    "data[[\"open_acc\",\n",
    "      \"total_acc\",\n",
    "      \"acc_now_delinq\",\n",
    "      \"tot_coll_amt\",\n",
    "      \"tot_cur_bal\",\n",
    "      \"open_acc_6m\",\n",
    "      \"open_act_il\",\n",
    "      \"acc_open_past_24mths\",\n",
    "      \"avg_cur_bal\",\n",
    "      \"bc_open_to_buy\",\n",
    "      \"bc_util\",\n",
    "      \"collections_12_mths_ex_med\",\n",
    "      \"revol_bal\",\n",
    "      \"revol_util\",\n",
    "      \"open_il_12m\",\n",
    "      \"open_il_24m\",\n",
    "      \"mths_since_rcnt_il\",\n",
    "      \"total_bal_il\",\n",
    "      \"open_rv_12m\",\n",
    "      \"open_rv_24m\",\n",
    "      \"max_bal_bc\",\n",
    "      \"all_util\",\n",
    "      \"total_rev_hi_lim\",\n",
    "      \"inq_fi\",\n",
    "      \"total_cu_tl\",\n",
    "      \"sec_app_inq_last_6mths\",\n",
    "      \"sec_app_mort_acc\",\n",
    "      \"sec_app_open_acc\",\n",
    "      \"sec_app_revol_util\",\n",
    "      \"sec_app_open_act_il\",\n",
    "      \"sec_app_num_rev_accts\",\n",
    "      \"sec_app_chargeoff_within_12_mths\",\n",
    "      \"sec_app_collections_12_mths_ex_med\",\n",
    "      \"sec_app_mths_since_last_major_derog\",\n",
    "      \"num_accts_ever_120_pd\",\n",
    "      \"num_actv_bc_tl\",\n",
    "      \"num_actv_rev_tl\",\n",
    "      \"num_bc_sats\",\n",
    "      \"num_bc_tl\",\n",
    "      \"num_il_tl\",\n",
    "      \"num_op_rev_tl\",\n",
    "      \"num_rev_accts\",\n",
    "      \"num_rev_tl_bal_gt_0\",\n",
    "      \"num_sats\",\n",
    "      \"num_tl_120dpd_2m\",\n",
    "      \"num_tl_30dpd\",\n",
    "      \"num_tl_90g_dpd_24m\",\n",
    "      \"num_tl_op_past_12m\",\n",
    "      \"mort_acc\"\n",
    "]] = \\\n",
    "data[[\"open_acc\",\n",
    "      \"total_acc\",\n",
    "      \"acc_now_delinq\",\n",
    "      \"tot_coll_amt\",\n",
    "      \"tot_cur_bal\",\n",
    "      \"open_acc_6m\",\n",
    "      \"open_act_il\",\n",
    "      \"acc_open_past_24mths\",\n",
    "      \"avg_cur_bal\",\n",
    "      \"bc_open_to_buy\",\n",
    "      \"bc_util\",\n",
    "      \"collections_12_mths_ex_med\",\n",
    "      \"revol_bal\",\n",
    "      \"revol_util\",\n",
    "      \"open_il_12m\",\n",
    "      \"open_il_24m\",\n",
    "      \"mths_since_rcnt_il\",\n",
    "      \"total_bal_il\",\n",
    "      \"open_rv_12m\",\n",
    "      \"open_rv_24m\",\n",
    "      \"max_bal_bc\",\n",
    "      \"all_util\",\n",
    "      \"total_rev_hi_lim\",\n",
    "      \"inq_fi\",\n",
    "      \"total_cu_tl\",\n",
    "      \"sec_app_inq_last_6mths\",\n",
    "      \"sec_app_mort_acc\",\n",
    "      \"sec_app_open_acc\",\n",
    "      \"sec_app_revol_util\",\n",
    "      \"sec_app_open_act_il\",\n",
    "      \"sec_app_num_rev_accts\",\n",
    "      \"sec_app_chargeoff_within_12_mths\",\n",
    "      \"sec_app_collections_12_mths_ex_med\",\n",
    "      \"sec_app_mths_since_last_major_derog\",\n",
    "      \"num_accts_ever_120_pd\",\n",
    "      \"num_actv_bc_tl\",\n",
    "      \"num_actv_rev_tl\",\n",
    "      \"num_bc_sats\",\n",
    "      \"num_bc_tl\",\n",
    "      \"num_il_tl\",\n",
    "      \"num_op_rev_tl\",\n",
    "      \"num_rev_accts\",\n",
    "      \"num_rev_tl_bal_gt_0\",\n",
    "      \"num_sats\",\n",
    "      \"num_tl_120dpd_2m\",\n",
    "      \"num_tl_30dpd\",\n",
    "      \"num_tl_90g_dpd_24m\",\n",
    "      \"num_tl_op_past_12m\",\n",
    "      \"mort_acc\"\n",
    "     ]].replace(np.nan,0)\n",
    "\n",
    "\n",
    "# similarly with any public or derogatory records, nan can mean that these people were not recorded\n",
    "data[[\"delinq_2yrs\",\n",
    "      \"delinq_amnt\",\n",
    "      \"inq_last_6mths\",\n",
    "      \"inq_last_12m\",\n",
    "      \"pub_rec\",\n",
    "      \"chargeoff_within_12_mths\",\n",
    "      \"mths_since_last_delinq\",\n",
    "      \"mths_since_last_record\",\n",
    "      \"mths_since_last_major_derog\",\n",
    "      \"pub_rec_bankruptcies\",\n",
    "      \"tax_liens\",\n",
    "      \"percent_bc_gt_75\"]] = \\\n",
    "data[[\"delinq_2yrs\",\n",
    "      \"delinq_amnt\",\n",
    "      \"inq_last_6mths\",\n",
    "      \"inq_last_12m\",\n",
    "      \"pub_rec\",\n",
    "      \"chargeoff_within_12_mths\",\n",
    "      \"mths_since_last_delinq\",\n",
    "      \"mths_since_last_record\",\n",
    "      \"mths_since_last_major_derog\",\n",
    "      \"pub_rec_bankruptcies\",\n",
    "      \"tax_liens\",\n",
    "      \"percent_bc_gt_75\"]].replace(np.nan,0)\n",
    "\n",
    "data[[\"total_pymnt_inv\",\"total_pymnt\"]] = data[[\"total_pymnt_inv\",\"total_pymnt\"]].replace([np.inf, -np.inf], np.nan)\n",
    "data[[\"total_pymnt_inv\",\"total_pymnt\"]] = data[[\"total_pymnt_inv\",\"total_pymnt\"]].replace(np.nan,0)\n"
   ]
  },
  {
   "cell_type": "markdown",
   "metadata": {},
   "source": [
    "# All data numeric"
   ]
  },
  {
   "cell_type": "code",
   "execution_count": 31,
   "metadata": {
    "scrolled": false
   },
   "outputs": [
    {
     "name": "stdout",
     "output_type": "stream",
     "text": [
      "<class 'pandas.core.frame.DataFrame'>\n",
      "Int64Index: 1340968 entries, 100 to 2260664\n",
      "Data columns (total 134 columns):\n",
      "loan_amnt                                     int64\n",
      "funded_amnt                                   int64\n",
      "funded_amnt_inv                               float64\n",
      "term                                          int64\n",
      "int_rate                                      float64\n",
      "installment                                   float64\n",
      "grade                                         int64\n",
      "emp_length                                    int64\n",
      "annual_inc                                    float64\n",
      "loan_status                                   int64\n",
      "pymnt_plan                                    int64\n",
      "dti                                           float64\n",
      "delinq_2yrs                                   float64\n",
      "earliest_cr_line                              float64\n",
      "inq_last_6mths                                float64\n",
      "mths_since_last_delinq                        float64\n",
      "mths_since_last_record                        float64\n",
      "open_acc                                      float64\n",
      "pub_rec                                       float64\n",
      "revol_bal                                     int64\n",
      "revol_util                                    float64\n",
      "total_acc                                     float64\n",
      "out_prncp                                     float64\n",
      "out_prncp_inv                                 float64\n",
      "total_pymnt                                   float64\n",
      "total_pymnt_inv                               float64\n",
      "total_rec_prncp                               float64\n",
      "total_rec_int                                 float64\n",
      "total_rec_late_fee                            float64\n",
      "recoveries                                    float64\n",
      "collection_recovery_fee                       float64\n",
      "last_pymnt_amnt                               float64\n",
      "last_credit_pull_d                            float64\n",
      "collections_12_mths_ex_med                    float64\n",
      "mths_since_last_major_derog                   float64\n",
      "application_type                              int64\n",
      "annual_inc_joint                              float64\n",
      "dti_joint                                     float64\n",
      "acc_now_delinq                                float64\n",
      "tot_coll_amt                                  float64\n",
      "tot_cur_bal                                   float64\n",
      "open_acc_6m                                   float64\n",
      "open_act_il                                   float64\n",
      "open_il_12m                                   float64\n",
      "open_il_24m                                   float64\n",
      "mths_since_rcnt_il                            float64\n",
      "total_bal_il                                  float64\n",
      "il_util                                       float64\n",
      "open_rv_12m                                   float64\n",
      "open_rv_24m                                   float64\n",
      "max_bal_bc                                    float64\n",
      "all_util                                      float64\n",
      "total_rev_hi_lim                              float64\n",
      "inq_fi                                        float64\n",
      "total_cu_tl                                   float64\n",
      "inq_last_12m                                  float64\n",
      "acc_open_past_24mths                          float64\n",
      "avg_cur_bal                                   float64\n",
      "bc_open_to_buy                                float64\n",
      "bc_util                                       float64\n",
      "chargeoff_within_12_mths                      float64\n",
      "delinq_amnt                                   float64\n",
      "mort_acc                                      float64\n",
      "num_accts_ever_120_pd                         float64\n",
      "num_actv_bc_tl                                float64\n",
      "num_actv_rev_tl                               float64\n",
      "num_bc_sats                                   float64\n",
      "num_bc_tl                                     float64\n",
      "num_il_tl                                     float64\n",
      "num_op_rev_tl                                 float64\n",
      "num_rev_accts                                 float64\n",
      "num_rev_tl_bal_gt_0                           float64\n",
      "num_sats                                      float64\n",
      "num_tl_120dpd_2m                              float64\n",
      "num_tl_30dpd                                  float64\n",
      "num_tl_90g_dpd_24m                            float64\n",
      "num_tl_op_past_12m                            float64\n",
      "percent_bc_gt_75                              float64\n",
      "pub_rec_bankruptcies                          float64\n",
      "tax_liens                                     float64\n",
      "revol_bal_joint                               float64\n",
      "sec_app_inq_last_6mths                        float64\n",
      "sec_app_mort_acc                              float64\n",
      "sec_app_open_acc                              float64\n",
      "sec_app_revol_util                            float64\n",
      "sec_app_open_act_il                           float64\n",
      "sec_app_num_rev_accts                         float64\n",
      "sec_app_chargeoff_within_12_mths              float64\n",
      "sec_app_collections_12_mths_ex_med            float64\n",
      "sec_app_mths_since_last_major_derog           float64\n",
      "hardship_flag                                 int64\n",
      "deferral_term                                 float64\n",
      "hardship_amount                               float64\n",
      "hardship_length                               float64\n",
      "orig_projected_additional_accrued_interest    float64\n",
      "hardship_payoff_balance_amount                float64\n",
      "hardship_last_payment_amount                  float64\n",
      "f                                             uint8\n",
      "w                                             uint8\n",
      "INTEREST ONLY-3 MONTHS DEFERRAL               uint8\n",
      "Not Verified                                  uint8\n",
      "Source Verified                               uint8\n",
      "Verified                                      uint8\n",
      "harship_len                                   float64\n",
      "car                                           uint8\n",
      "credit_card                                   uint8\n",
      "debt_consolidation                            uint8\n",
      "educational                                   uint8\n",
      "home_improvement                              uint8\n",
      "house                                         uint8\n",
      "major_purchase                                uint8\n",
      "medical                                       uint8\n",
      "moving                                        uint8\n",
      "other                                         uint8\n",
      "renewable_energy                              uint8\n",
      "small_business                                uint8\n",
      "vacation                                      uint8\n",
      "wedding                                       uint8\n",
      "ANY                                           uint8\n",
      "MORTGAGE                                      uint8\n",
      "NONE                                          uint8\n",
      "OTHER                                         uint8\n",
      "OWN                                           uint8\n",
      "RENT                                          uint8\n",
      "DISABILITY                                    uint8\n",
      "DIVORCE                                       uint8\n",
      "EXCESSIVE_OBLIGATIONS                         uint8\n",
      "FAMILY_DEATH                                  uint8\n",
      "INCOME_CURTAILMENT                            uint8\n",
      "MEDICAL                                       uint8\n",
      "NATURAL_DISASTER                              uint8\n",
      "NO_HARDSHIP                                   uint8\n",
      "REDUCED_HOURS                                 uint8\n",
      "UNEMPLOYMENT                                  uint8\n",
      "dtypes: float64(88), int64(10), uint8(36)\n",
      "memory usage: 1.1 GB\n"
     ]
    }
   ],
   "source": [
    "data.info(verbose=1)"
   ]
  },
  {
   "cell_type": "markdown",
   "metadata": {},
   "source": [
    "# Missing Data Ratio"
   ]
  },
  {
   "cell_type": "code",
   "execution_count": 32,
   "metadata": {
    "scrolled": false
   },
   "outputs": [
    {
     "data": {
      "text/plain": [
       "loan_amnt                                     0.0\n",
       "funded_amnt                                   0.0\n",
       "funded_amnt_inv                               0.0\n",
       "term                                          0.0\n",
       "int_rate                                      0.0\n",
       "installment                                   0.0\n",
       "grade                                         0.0\n",
       "emp_length                                    0.0\n",
       "annual_inc                                    0.0\n",
       "loan_status                                   0.0\n",
       "pymnt_plan                                    0.0\n",
       "dti                                           0.0\n",
       "delinq_2yrs                                   0.0\n",
       "earliest_cr_line                              0.0\n",
       "inq_last_6mths                                0.0\n",
       "mths_since_last_delinq                        0.0\n",
       "mths_since_last_record                        0.0\n",
       "open_acc                                      0.0\n",
       "pub_rec                                       0.0\n",
       "revol_bal                                     0.0\n",
       "revol_util                                    0.0\n",
       "total_acc                                     0.0\n",
       "out_prncp                                     0.0\n",
       "out_prncp_inv                                 0.0\n",
       "total_pymnt                                   0.0\n",
       "total_pymnt_inv                               0.0\n",
       "total_rec_prncp                               0.0\n",
       "total_rec_int                                 0.0\n",
       "total_rec_late_fee                            0.0\n",
       "recoveries                                    0.0\n",
       "collection_recovery_fee                       0.0\n",
       "last_pymnt_amnt                               0.0\n",
       "last_credit_pull_d                            0.0\n",
       "collections_12_mths_ex_med                    0.0\n",
       "mths_since_last_major_derog                   0.0\n",
       "application_type                              0.0\n",
       "annual_inc_joint                              0.0\n",
       "dti_joint                                     0.0\n",
       "acc_now_delinq                                0.0\n",
       "tot_coll_amt                                  0.0\n",
       "tot_cur_bal                                   0.0\n",
       "open_acc_6m                                   0.0\n",
       "open_act_il                                   0.0\n",
       "open_il_12m                                   0.0\n",
       "open_il_24m                                   0.0\n",
       "mths_since_rcnt_il                            0.0\n",
       "total_bal_il                                  0.0\n",
       "il_util                                       0.0\n",
       "open_rv_12m                                   0.0\n",
       "open_rv_24m                                   0.0\n",
       "max_bal_bc                                    0.0\n",
       "all_util                                      0.0\n",
       "total_rev_hi_lim                              0.0\n",
       "inq_fi                                        0.0\n",
       "total_cu_tl                                   0.0\n",
       "inq_last_12m                                  0.0\n",
       "acc_open_past_24mths                          0.0\n",
       "avg_cur_bal                                   0.0\n",
       "bc_open_to_buy                                0.0\n",
       "bc_util                                       0.0\n",
       "chargeoff_within_12_mths                      0.0\n",
       "delinq_amnt                                   0.0\n",
       "mort_acc                                      0.0\n",
       "num_accts_ever_120_pd                         0.0\n",
       "num_actv_bc_tl                                0.0\n",
       "num_actv_rev_tl                               0.0\n",
       "num_bc_sats                                   0.0\n",
       "num_bc_tl                                     0.0\n",
       "num_il_tl                                     0.0\n",
       "num_op_rev_tl                                 0.0\n",
       "num_rev_accts                                 0.0\n",
       "num_rev_tl_bal_gt_0                           0.0\n",
       "num_sats                                      0.0\n",
       "num_tl_120dpd_2m                              0.0\n",
       "num_tl_30dpd                                  0.0\n",
       "num_tl_90g_dpd_24m                            0.0\n",
       "num_tl_op_past_12m                            0.0\n",
       "percent_bc_gt_75                              0.0\n",
       "pub_rec_bankruptcies                          0.0\n",
       "tax_liens                                     0.0\n",
       "revol_bal_joint                               0.0\n",
       "sec_app_inq_last_6mths                        0.0\n",
       "sec_app_mort_acc                              0.0\n",
       "sec_app_open_acc                              0.0\n",
       "sec_app_revol_util                            0.0\n",
       "sec_app_open_act_il                           0.0\n",
       "sec_app_num_rev_accts                         0.0\n",
       "sec_app_chargeoff_within_12_mths              0.0\n",
       "sec_app_collections_12_mths_ex_med            0.0\n",
       "sec_app_mths_since_last_major_derog           0.0\n",
       "hardship_flag                                 0.0\n",
       "deferral_term                                 0.0\n",
       "hardship_amount                               0.0\n",
       "hardship_length                               0.0\n",
       "orig_projected_additional_accrued_interest    0.0\n",
       "hardship_payoff_balance_amount                0.0\n",
       "hardship_last_payment_amount                  0.0\n",
       "f                                             0.0\n",
       "w                                             0.0\n",
       "INTEREST ONLY-3 MONTHS DEFERRAL               0.0\n",
       "Not Verified                                  0.0\n",
       "Source Verified                               0.0\n",
       "Verified                                      0.0\n",
       "harship_len                                   0.0\n",
       "car                                           0.0\n",
       "credit_card                                   0.0\n",
       "debt_consolidation                            0.0\n",
       "educational                                   0.0\n",
       "home_improvement                              0.0\n",
       "house                                         0.0\n",
       "major_purchase                                0.0\n",
       "medical                                       0.0\n",
       "moving                                        0.0\n",
       "other                                         0.0\n",
       "renewable_energy                              0.0\n",
       "small_business                                0.0\n",
       "vacation                                      0.0\n",
       "wedding                                       0.0\n",
       "ANY                                           0.0\n",
       "MORTGAGE                                      0.0\n",
       "NONE                                          0.0\n",
       "OTHER                                         0.0\n",
       "OWN                                           0.0\n",
       "RENT                                          0.0\n",
       "DISABILITY                                    0.0\n",
       "DIVORCE                                       0.0\n",
       "EXCESSIVE_OBLIGATIONS                         0.0\n",
       "FAMILY_DEATH                                  0.0\n",
       "INCOME_CURTAILMENT                            0.0\n",
       "MEDICAL                                       0.0\n",
       "NATURAL_DISASTER                              0.0\n",
       "NO_HARDSHIP                                   0.0\n",
       "REDUCED_HOURS                                 0.0\n",
       "UNEMPLOYMENT                                  0.0\n",
       "dtype: float64"
      ]
     },
     "execution_count": 32,
     "metadata": {},
     "output_type": "execute_result"
    }
   ],
   "source": [
    "data.isnull().sum()/len(data)"
   ]
  },
  {
   "cell_type": "markdown",
   "metadata": {},
   "source": [
    "# Log normalize some data"
   ]
  },
  {
   "cell_type": "code",
   "execution_count": 42,
   "metadata": {},
   "outputs": [],
   "source": [
    "#data.loc[(data[\"total_pymnt\"].isnull()) | (data[\"total_pymnt_inv\"].isnull())]"
   ]
  },
  {
   "cell_type": "code",
   "execution_count": 33,
   "metadata": {},
   "outputs": [
    {
     "name": "stderr",
     "output_type": "stream",
     "text": [
      "/Library/Frameworks/Python.framework/Versions/3.7/lib/python3.7/site-packages/ipykernel_launcher.py:1: RuntimeWarning: divide by zero encountered in log\n",
      "  \"\"\"Entry point for launching an IPython kernel.\n",
      "/Library/Frameworks/Python.framework/Versions/3.7/lib/python3.7/site-packages/ipykernel_launcher.py:4: RuntimeWarning: divide by zero encountered in log\n",
      "  after removing the cwd from sys.path.\n",
      "/Library/Frameworks/Python.framework/Versions/3.7/lib/python3.7/site-packages/ipykernel_launcher.py:4: RuntimeWarning: invalid value encountered in log\n",
      "  after removing the cwd from sys.path.\n",
      "/Library/Frameworks/Python.framework/Versions/3.7/lib/python3.7/site-packages/ipykernel_launcher.py:7: RuntimeWarning: divide by zero encountered in log\n",
      "  import sys\n",
      "/Library/Frameworks/Python.framework/Versions/3.7/lib/python3.7/site-packages/ipykernel_launcher.py:7: RuntimeWarning: invalid value encountered in log\n",
      "  import sys\n"
     ]
    }
   ],
   "source": [
    "data[\"annual_inc\"] = np.log(data[\"annual_inc\"])\n",
    "data[\"annual_inc\"] = data[\"annual_inc\"].replace(float('-inf'),0)\n",
    "\n",
    "data[\"total_pymnt_inv\"] = np.log(data[\"total_pymnt_inv\"])\n",
    "data[\"total_pymnt_inv\"] = data[\"total_pymnt_inv\"].replace(float('-inf'),0)\n",
    "\n",
    "data[\"total_pymnt\"] = np.log(data[\"total_pymnt\"])\n",
    "data[\"total_pymnt\"] = data[\"total_pymnt\"].replace(float('-inf'),0)\n",
    "\n",
    "data[\"installment\"] = np.log(data[\"installment\"])\n",
    "data[\"installment\"] = data[\"installment\"].replace(float('-inf'),0)"
   ]
  },
  {
   "cell_type": "code",
   "execution_count": 43,
   "metadata": {},
   "outputs": [],
   "source": [
    "data[[\"total_pymnt\",\"total_pymnt_inv\"]] = data[[\"total_pymnt\",\"total_pymnt_inv\"]].replace([np.inf, -np.inf], np.nan)\n"
   ]
  },
  {
   "cell_type": "code",
   "execution_count": 44,
   "metadata": {},
   "outputs": [],
   "source": [
    "header = np.array(data.columns)\n",
    "all_data = data.values"
   ]
  },
  {
   "cell_type": "markdown",
   "metadata": {},
   "source": [
    "# store arrays as npy file: mainly for speed\n"
   ]
  },
  {
   "cell_type": "code",
   "execution_count": 45,
   "metadata": {},
   "outputs": [],
   "source": [
    "np.savez(\"data.npz\", all_data, header)"
   ]
  }
 ],
 "metadata": {
  "kernelspec": {
   "display_name": "Python 3",
   "language": "python",
   "name": "python3"
  },
  "language_info": {
   "codemirror_mode": {
    "name": "ipython",
    "version": 3
   },
   "file_extension": ".py",
   "mimetype": "text/x-python",
   "name": "python",
   "nbconvert_exporter": "python",
   "pygments_lexer": "ipython3",
   "version": "3.7.3"
  }
 },
 "nbformat": 4,
 "nbformat_minor": 2
}
