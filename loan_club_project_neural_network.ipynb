{
 "cells": [
  {
   "cell_type": "code",
   "execution_count": 1,
   "metadata": {},
   "outputs": [
    {
     "name": "stderr",
     "output_type": "stream",
     "text": [
      "Using TensorFlow backend.\n"
     ]
    }
   ],
   "source": [
    "import matplotlib.patches as mpatches\n",
    "import matplotlib.pyplot as plt\n",
    "import matplotlib.pyplot as plt\n",
    "import seaborn as sns\n",
    "import pandas as pd\n",
    "import numpy as np\n",
    "from sklearn import metrics\n",
    "from sklearn.feature_selection import mutual_info_classif, mutual_info_regression, SelectKBest, SelectPercentile\n",
    "from mlxtend.feature_selection import SequentialFeatureSelector as SFS\n",
    "from sklearn.model_selection import validation_curve, cross_val_score, learning_curve, train_test_split, RandomizedSearchCV\n",
    "from sklearn.linear_model import LogisticRegressionCV, LogisticRegression\n",
    "from sklearn.ensemble import RandomForestClassifier\n",
    "from sklearn.preprocessing import LabelBinarizer, MinMaxScaler\n",
    "from sklearn.svm import SVC\n",
    "import warnings\n",
    "from sklearn import preprocessing\n",
    "from sklearn.metrics import confusion_matrix\n",
    "import keras_metrics\n",
    "import keras.backend as K\n",
    "import tensorflow as tf\n",
    "import matplotlib.pyplot as plt\n",
    "import numpy as np\n",
    "from keras import Sequential\n",
    "from keras.layers import Dense\n",
    "\n",
    "\n",
    "warnings.filterwarnings(\"ignore\", category=FutureWarning)\n",
    "pd.options.display.max_rows = 200"
   ]
  },
  {
   "cell_type": "markdown",
   "metadata": {},
   "source": [
    "# Coding Challenge\n",
    "## Objective: improve performance\n",
    "### Benchmark: https://triamus.github.io/project/lending-club-loan-data-in-r/#loan-amount-and-income"
   ]
  },
  {
   "cell_type": "markdown",
   "metadata": {},
   "source": [
    "# 1. First Steps\n",
    "\n",
    "<li> Load Data \n",
    "<li> Use algorithm/ techinques to intelligently remove rest of the features"
   ]
  },
  {
   "cell_type": "markdown",
   "metadata": {},
   "source": [
    "## Load Data"
   ]
  },
  {
   "cell_type": "code",
   "execution_count": 41,
   "metadata": {},
   "outputs": [],
   "source": [
    "dat = np.load(\"data.npz\",allow_pickle=True)\n",
    "values = dat[\"arr_0\"]\n",
    "header = dat[\"arr_1\"]\n",
    "dt = pd.DataFrame(values,columns = header)"
   ]
  },
  {
   "cell_type": "code",
   "execution_count": null,
   "metadata": {},
   "outputs": [],
   "source": []
  },
  {
   "cell_type": "code",
   "execution_count": 65,
   "metadata": {},
   "outputs": [],
   "source": [
    "# assume these features\n",
    "\n",
    "columns = ['int_rate',\n",
    " 'installment',\n",
    " 'grade',\n",
    " 'out_prncp',\n",
    " 'total_pymnt_inv',\n",
    " 'total_rec_late_fee',\n",
    " 'recoveries',\n",
    " 'collection_recovery_fee',\n",
    " 'Source Verified',\n",
    " 'NO_HARDSHIP', 'loan_status']\n",
    "\n",
    "\n",
    "data = dt[columns]\n",
    "\n"
   ]
  },
  {
   "cell_type": "code",
   "execution_count": 66,
   "metadata": {},
   "outputs": [],
   "source": [
    "X = data.drop(\"loan_status\", axis=1)\n",
    "y = data[\"loan_status\"]"
   ]
  },
  {
   "cell_type": "code",
   "execution_count": null,
   "metadata": {},
   "outputs": [],
   "source": []
  },
  {
   "cell_type": "code",
   "execution_count": 67,
   "metadata": {},
   "outputs": [],
   "source": [
    "X_train, X_test, y_train, y_test = train_test_split(X, y, test_size=0.30, random_state=0)\n"
   ]
  },
  {
   "cell_type": "code",
   "execution_count": 68,
   "metadata": {},
   "outputs": [],
   "source": [
    "scaler = MinMaxScaler()\n",
    "\n",
    "# fit scaler on data\n",
    "scaler.fit(X_train)\n",
    "X_train = scaler.transform(X_train)\n",
    "\n",
    "scaler.fit(X_test)\n",
    "X_test = scaler.transform(X_test)\n",
    "\n"
   ]
  },
  {
   "cell_type": "code",
   "execution_count": null,
   "metadata": {},
   "outputs": [],
   "source": []
  },
  {
   "cell_type": "code",
   "execution_count": 74,
   "metadata": {},
   "outputs": [],
   "source": [
    "classifier = Sequential()\n",
    "#First Hidden Layer\n",
    "classifier.add(Dense(5, activation='relu', kernel_initializer='random_normal', input_dim=10))\n",
    "#Second  Hidden Layer\n",
    "classifier.add(Dense(5, activation='relu', kernel_initializer='random_normal'))\n",
    "#Output Layer\n",
    "classifier.add(Dense(1, activation='sigmoid', kernel_initializer='random_normal'))\n"
   ]
  },
  {
   "cell_type": "code",
   "execution_count": 75,
   "metadata": {},
   "outputs": [],
   "source": [
    "classifier.compile(optimizer=\"adam\",\n",
    "                   loss=\"binary_crossentropy\",\n",
    "                   metrics=[keras_metrics.f1_score()])"
   ]
  },
  {
   "cell_type": "code",
   "execution_count": 76,
   "metadata": {},
   "outputs": [
    {
     "name": "stdout",
     "output_type": "stream",
     "text": [
      "Epoch 1/10\n",
      "938677/938677 [==============================] - 156s 166us/step - loss: 0.1492 - f1_score: 0.8710\n",
      "Epoch 2/10\n",
      "938677/938677 [==============================] - 164s 174us/step - loss: 0.0767 - f1_score: 0.9542\n",
      "Epoch 3/10\n",
      "938677/938677 [==============================] - 166s 177us/step - loss: 0.0742 - f1_score: 0.9580\n",
      "Epoch 4/10\n",
      "938677/938677 [==============================] - 164s 175us/step - loss: 0.0734 - f1_score: 0.9590\n",
      "Epoch 5/10\n",
      "938677/938677 [==============================] - 162s 172us/step - loss: 0.0727 - f1_score: 0.9596\n",
      "Epoch 6/10\n",
      "938677/938677 [==============================] - 153s 163us/step - loss: 0.0723 - f1_score: 0.9597\n",
      "Epoch 7/10\n",
      "938677/938677 [==============================] - 152s 162us/step - loss: 0.0717 - f1_score: 0.9601\n",
      "Epoch 8/10\n",
      "938677/938677 [==============================] - 178s 190us/step - loss: 0.0670 - f1_score: 0.9625\n",
      "Epoch 9/10\n",
      "938677/938677 [==============================] - 169s 180us/step - loss: 0.0653 - f1_score: 0.9639\n",
      "Epoch 10/10\n",
      "938677/938677 [==============================] - 133s 142us/step - loss: 0.0649 - f1_score: 0.9644\n"
     ]
    },
    {
     "data": {
      "text/plain": [
       "<keras.callbacks.History at 0x1b5f4b588>"
      ]
     },
     "execution_count": 76,
     "metadata": {},
     "output_type": "execute_result"
    }
   ],
   "source": [
    "#Fitting the data to the training dataset\n",
    "classifier.fit(X_train,y_train, batch_size=10, epochs=10)\n"
   ]
  },
  {
   "cell_type": "code",
   "execution_count": 77,
   "metadata": {},
   "outputs": [
    {
     "data": {
      "text/plain": [
       "array([[312642,    533],\n",
       "       [ 14207,  74909]])"
      ]
     },
     "execution_count": 77,
     "metadata": {},
     "output_type": "execute_result"
    }
   ],
   "source": [
    "y_pred = classifier.predict(X_test)\n",
    "y_pred =(y_pred>0.5)\n",
    "metrics.confusion_matrix(y_test, y_pred)"
   ]
  },
  {
   "cell_type": "code",
   "execution_count": null,
   "metadata": {},
   "outputs": [],
   "source": []
  },
  {
   "cell_type": "code",
   "execution_count": null,
   "metadata": {},
   "outputs": [],
   "source": []
  },
  {
   "cell_type": "code",
   "execution_count": 79,
   "metadata": {},
   "outputs": [
    {
     "name": "stdout",
     "output_type": "stream",
     "text": [
      "F1: 0.9104267188468503\n",
      "Accuracy: 0.963359856422341\n",
      "Precision: 0.9929349699106599\n",
      "Recall: 0.8405785717491808\n",
      "ROC: 0.9194383239523425\n"
     ]
    }
   ],
   "source": [
    "print(\"F1: \" + str(metrics.f1_score(y_test, y_pred)))\n",
    "print(\"Accuracy: \" + str(metrics.accuracy_score(y_test, y_pred)))\n",
    "print(\"Precision: \" + str(metrics.precision_score(y_test, y_pred)))\n",
    "print(\"Recall: \" + str(metrics.recall_score(y_test, y_pred)))\n",
    "print(\"ROC: \" + str(metrics.roc_auc_score(y_test, y_pred)))\n",
    "\n"
   ]
  },
  {
   "cell_type": "code",
   "execution_count": null,
   "metadata": {},
   "outputs": [],
   "source": []
  }
 ],
 "metadata": {
  "kernelspec": {
   "display_name": "Python 3",
   "language": "python",
   "name": "python3"
  },
  "language_info": {
   "codemirror_mode": {
    "name": "ipython",
    "version": 3
   },
   "file_extension": ".py",
   "mimetype": "text/x-python",
   "name": "python",
   "nbconvert_exporter": "python",
   "pygments_lexer": "ipython3",
   "version": "3.7.3"
  }
 },
 "nbformat": 4,
 "nbformat_minor": 2
}
